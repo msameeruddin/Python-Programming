{
 "cells": [
  {
   "cell_type": "markdown",
   "metadata": {},
   "source": [
    "<center><h1>Classes in Python</h1></center>"
   ]
  },
  {
   "cell_type": "markdown",
   "metadata": {},
   "source": [
    "* A `class` is a combination of functions (they are called as methods) and variables, whose main objective is to provide templates for creating `objects`.\n",
    "\n",
    "* Keyword `class` is used to create classes followed by the `NameOfTheClass`.\n",
    "\n",
    "<img src=\"https://raw.githubusercontent.com/msameeruddin/Python-Programming/main/5_Python_Classes/class_image.png\">\n",
    "\n",
    "**Image by author**"
   ]
  },
  {
   "cell_type": "markdown",
   "metadata": {},
   "source": [
    "### Rules to keep in mind"
   ]
  },
  {
   "cell_type": "markdown",
   "metadata": {},
   "source": [
    "* Name of the class should be `Capital Camel Cased`.\n",
    "    - ```python\n",
    "    class MyClassName\n",
    "    ```\n",
    "    - ```python\n",
    "    class YourClassName\n",
    "    ```\n",
    "    - ```python\n",
    "    class OurClassName\n",
    "    ```\n",
    "\n",
    "* The methods (name) that are defined in the class should give an essence of verb (i.e., actions).\n",
    "    - ```python\n",
    "    get_data()\n",
    "    ```\n",
    "    - ```python\n",
    "    add()\n",
    "    ```\n",
    "    - ```python\n",
    "    organize_response()\n",
    "    ```"
   ]
  },
  {
   "cell_type": "markdown",
   "metadata": {},
   "source": [
    "### Why Classes?"
   ]
  },
  {
   "cell_type": "markdown",
   "metadata": {},
   "source": [
    "* The main idea for using class is to implement **Object Oriented Programming (OOP)**.\n",
    "* To serve or provide template for creating or instantiating specific methods within a program.\n",
    "* Highly recommended if developping an application in order to avoid any code breaking.\n",
    "* It provides a way to make our own data type.\n",
    "\n",
    "**Note**\n",
    "\n",
    "* Class is a special data type which defines how to build a certain kind of object.\n",
    "\n",
    "```python\n",
    ">>> s = \"python\"\n",
    ">>> print(type(s))\n",
    "<class 'str'>\n",
    ">>> s.upper()\n",
    "'PYTHON'\n",
    "```\n",
    "\n",
    "* `s` is a variable and object.\n",
    "* The `type(s)` is `str` which is basically a `class`.\n",
    "* `upper()` is a method / function inside the class."
   ]
  },
  {
   "cell_type": "markdown",
   "metadata": {},
   "source": [
    "<center><h2>Local variable vs Global variable</h2></center>"
   ]
  },
  {
   "cell_type": "markdown",
   "metadata": {},
   "source": [
    "**Local variable**\n",
    "\n",
    "* Declared inside a function.\n",
    "* The scope is limited to the particular function alone.\n",
    "* It is possible to have local variables with the same name in different functions.\n",
    "\n",
    "**Global variable**\n",
    "\n",
    "* Declared outside any function.\n",
    "* The scope is limited to the entire program file.\n",
    "* There can be any number of global variables in the program file.\n",
    "\n",
    "<img src=\"https://raw.githubusercontent.com/msameeruddin/Python-Programming/main/5_Python_Classes/intorrogate_room.jpg\">\n",
    "\n",
    "**Credits** - Image from Internet"
   ]
  },
  {
   "cell_type": "code",
   "execution_count": 1,
   "metadata": {},
   "outputs": [
    {
     "name": "stdout",
     "output_type": "stream",
     "text": [
      "before -  python\n",
      "-----------------\n",
      "inside function\n",
      "hey python coding\n",
      "-----------------\n",
      "unchanged -  python\n"
     ]
    }
   ],
   "source": [
    "# show example\n",
    "\n",
    "some = \"python\"\n",
    "print(\"before - \", some)\n",
    "print('-----------------')\n",
    "\n",
    "def my_func():\n",
    "    print(\"inside function\")\n",
    "    local = ' coding'\n",
    "    return \"hey \" + some + local\n",
    "\n",
    "print(my_func()) # function call\n",
    "\n",
    "print('-----------------')\n",
    "print(\"unchanged - \", some)\n",
    "\n",
    "# print(\"local variable - \", local) # error"
   ]
  },
  {
   "cell_type": "markdown",
   "metadata": {},
   "source": [
    "### Structure of `class`"
   ]
  },
  {
   "cell_type": "markdown",
   "metadata": {},
   "source": [
    "```python\n",
    "class MyName():\n",
    "    def __init__(self):\n",
    "        pass\n",
    "    \n",
    "    def method_1(self, s, w, t):\n",
    "        # do something\n",
    "        return None\n",
    "    \n",
    "    def method_2(self):\n",
    "        # do something\n",
    "        \n",
    "        # method_1 calling\n",
    "        self.method_1(s, w, t)\n",
    "        # or\n",
    "        method_1(self, s, w, t)\n",
    "        return None\n",
    "```"
   ]
  },
  {
   "cell_type": "markdown",
   "metadata": {},
   "source": [
    "<center><h2>Let's make our own data type (class)</h2></center>"
   ]
  },
  {
   "cell_type": "code",
   "execution_count": 2,
   "metadata": {},
   "outputs": [],
   "source": [
    "# class str():\n",
    "#     def upper(self):\n",
    "#         return None\n",
    "#     def lower(self):\n",
    "#         return None"
   ]
  },
  {
   "cell_type": "code",
   "execution_count": 3,
   "metadata": {},
   "outputs": [
    {
     "name": "stdout",
     "output_type": "stream",
     "text": [
      "PYTHON\n",
      "<class 'str'>\n"
     ]
    }
   ],
   "source": [
    "s = \"python\"\n",
    "print(s.upper())\n",
    "print(type(s))"
   ]
  },
  {
   "cell_type": "markdown",
   "metadata": {},
   "source": [
    "### Create a class called `Myself`"
   ]
  },
  {
   "cell_type": "code",
   "execution_count": 4,
   "metadata": {},
   "outputs": [],
   "source": [
    "# class - Myself\n",
    "# variable name - \"Sameer\"\n",
    "\n",
    "class Myself():\n",
    "    name = \"Sameer\""
   ]
  },
  {
   "cell_type": "markdown",
   "metadata": {},
   "source": [
    "### Create an object called `me`"
   ]
  },
  {
   "cell_type": "code",
   "execution_count": 5,
   "metadata": {},
   "outputs": [],
   "source": [
    "me = Myself()"
   ]
  },
  {
   "cell_type": "markdown",
   "metadata": {},
   "source": [
    "### Check `type`"
   ]
  },
  {
   "cell_type": "code",
   "execution_count": 6,
   "metadata": {},
   "outputs": [],
   "source": [
    "# dir(s)"
   ]
  },
  {
   "cell_type": "code",
   "execution_count": 7,
   "metadata": {
    "scrolled": true
   },
   "outputs": [
    {
     "name": "stdout",
     "output_type": "stream",
     "text": [
      "<class '__main__.Myself'>\n"
     ]
    }
   ],
   "source": [
    "print(type(me))"
   ]
  },
  {
   "cell_type": "markdown",
   "metadata": {},
   "source": [
    "### Instansiate the variable `name` using the object `me`"
   ]
  },
  {
   "cell_type": "code",
   "execution_count": 8,
   "metadata": {},
   "outputs": [
    {
     "data": {
      "text/plain": [
       "'Sameer'"
      ]
     },
     "execution_count": 8,
     "metadata": {},
     "output_type": "execute_result"
    }
   ],
   "source": [
    "me.name"
   ]
  },
  {
   "cell_type": "markdown",
   "metadata": {},
   "source": [
    "Previously, we created a variable called `s = \"python\"`. From that, we instantiated the function/method called `upper()`. In the same way, for this example we instantiated the variable called `name` with the object `me`."
   ]
  },
  {
   "cell_type": "markdown",
   "metadata": {},
   "source": [
    "<center><h2>Let's take it to another level</h2></center>"
   ]
  },
  {
   "cell_type": "markdown",
   "metadata": {},
   "source": [
    "**Some key rules**\n",
    "\n",
    "* `self` - It is always passed as the first argument in every function or method that is created.\n",
    "\n",
    "<br>\n",
    "\n",
    "* `__init__()` - A special method which gets initialised without being called. Acts as a `constructor` to initialise the class.\n",
    "    - Takes `self` as a default argument.\n",
    "    - No need to have a `return` statement in the method.\n",
    "\n",
    "<br>\n",
    "\n",
    "* Variables that are declared in `__init__()` method, can be accessed throught the class.\n",
    "    - These variables are called as `INSTANCE VARIABLES` or `MEMBER VARIABLES`.\n",
    "\n",
    "<br>\n",
    "\n",
    "* Functions that are defined are called as `INSTANCE METHODS` or `MEMBER METHODS`.\n",
    "    - Takes `self` as a default argument.\n",
    "    - Methods are called using the notation `self.<method_name()>`.\n",
    "    - At the time of calling the method, we need not specify `self` argument.\n",
    "\n",
    "<br>\n",
    "\n",
    "**Note** - The `self` parameter is a reference to the current instance of the class, and is used to access variables that belong to the class."
   ]
  },
  {
   "cell_type": "markdown",
   "metadata": {},
   "source": [
    "### `__init__()` method → constructor"
   ]
  },
  {
   "cell_type": "code",
   "execution_count": 9,
   "metadata": {},
   "outputs": [],
   "source": [
    "# write code\n",
    "# make a class HeyPython\n",
    "# have two print statements inside __init__()\n",
    "\n",
    "class HeyPython():\n",
    "    def __init__(self):\n",
    "        print(\"Hello\")\n",
    "        print(\"Bye\")"
   ]
  },
  {
   "cell_type": "markdown",
   "metadata": {},
   "source": [
    "### No need to call the `__init__()` method\n",
    "\n",
    "It automatically gets invoked."
   ]
  },
  {
   "cell_type": "code",
   "execution_count": 10,
   "metadata": {},
   "outputs": [
    {
     "name": "stdout",
     "output_type": "stream",
     "text": [
      "Hello\n",
      "Bye\n"
     ]
    }
   ],
   "source": [
    "# create HeyPython object\n",
    "hpy = HeyPython()"
   ]
  },
  {
   "cell_type": "markdown",
   "metadata": {},
   "source": [
    "`__init__()` will be called automatically when the object is created."
   ]
  },
  {
   "cell_type": "markdown",
   "metadata": {},
   "source": [
    "### Class with multiple methods"
   ]
  },
  {
   "cell_type": "code",
   "execution_count": 11,
   "metadata": {},
   "outputs": [],
   "source": [
    "# class - Basic\n",
    "# __init__() - \"Hello everyone\"\n",
    "# simple() - \"Hey, I am a method, my name is simple()\"\n",
    "# another() -\n",
    "#     invoke simple()\n",
    "#     \"Hey, I am method, my name is another()\"\n",
    "\n",
    "class Basic():\n",
    "    def __init__(self):\n",
    "        print(\"Hello everyone\")\n",
    "    \n",
    "    def simple(self):\n",
    "        return \"Hey, I am a method, my name is simple()\"\n",
    "    \n",
    "    def another(self):\n",
    "        print(self.simple())\n",
    "        return \"Hey, I am method, my name is another()\""
   ]
  },
  {
   "cell_type": "markdown",
   "metadata": {},
   "source": [
    "### Object creation"
   ]
  },
  {
   "cell_type": "code",
   "execution_count": 12,
   "metadata": {
    "scrolled": true
   },
   "outputs": [
    {
     "name": "stdout",
     "output_type": "stream",
     "text": [
      "Hello everyone\n"
     ]
    }
   ],
   "source": [
    "b = Basic()"
   ]
  },
  {
   "cell_type": "markdown",
   "metadata": {},
   "source": [
    "### Check `type`"
   ]
  },
  {
   "cell_type": "code",
   "execution_count": 13,
   "metadata": {},
   "outputs": [
    {
     "name": "stdout",
     "output_type": "stream",
     "text": [
      "<class '__main__.Basic'>\n"
     ]
    }
   ],
   "source": [
    "print(type(b))"
   ]
  },
  {
   "cell_type": "markdown",
   "metadata": {},
   "source": [
    "### Instantiate method"
   ]
  },
  {
   "cell_type": "code",
   "execution_count": 14,
   "metadata": {},
   "outputs": [
    {
     "data": {
      "text/plain": [
       "'Hey, I am a method, my name is simple()'"
      ]
     },
     "execution_count": 14,
     "metadata": {},
     "output_type": "execute_result"
    }
   ],
   "source": [
    "b.simple()"
   ]
  },
  {
   "cell_type": "code",
   "execution_count": 15,
   "metadata": {},
   "outputs": [
    {
     "name": "stdout",
     "output_type": "stream",
     "text": [
      "Hey, I am a method, my name is simple()\n"
     ]
    },
    {
     "data": {
      "text/plain": [
       "'Hey, I am method, my name is another()'"
      ]
     },
     "execution_count": 15,
     "metadata": {},
     "output_type": "execute_result"
    }
   ],
   "source": [
    "b.another()"
   ]
  },
  {
   "cell_type": "markdown",
   "metadata": {},
   "source": [
    "**Note** - There is a lot difference between function and method. They are not the same in terms of `type()` of each.\n",
    "* For eg:"
   ]
  },
  {
   "cell_type": "code",
   "execution_count": 16,
   "metadata": {
    "scrolled": true
   },
   "outputs": [
    {
     "name": "stdout",
     "output_type": "stream",
     "text": [
      "<class 'function'>\n"
     ]
    }
   ],
   "source": [
    "def my_func():\n",
    "    return True\n",
    "\n",
    "print(type(my_func))"
   ]
  },
  {
   "cell_type": "code",
   "execution_count": 17,
   "metadata": {
    "scrolled": true
   },
   "outputs": [
    {
     "name": "stdout",
     "output_type": "stream",
     "text": [
      "<class 'method'>\n"
     ]
    }
   ],
   "source": [
    "class MyClass():\n",
    "    def simple_func(self):\n",
    "        return True\n",
    "\n",
    "cls = MyClass()\n",
    "print(type(cls.simple_func))"
   ]
  },
  {
   "cell_type": "markdown",
   "metadata": {},
   "source": [
    "Notice the difference. For the first output we got `function` and for the second output we got `method`."
   ]
  },
  {
   "cell_type": "markdown",
   "metadata": {},
   "source": [
    "### `__init__()` with parameters → parameterized constructors"
   ]
  },
  {
   "cell_type": "code",
   "execution_count": 18,
   "metadata": {},
   "outputs": [],
   "source": [
    "# class - AboutMe()\n",
    "# params - name, interests, occupation\n",
    "# method - get_details()\n",
    "# statement - \"The name is {}. My interests are {}. My occupation is {}\"\n",
    "\n",
    "class AboutMe():\n",
    "    def __init__(self, name, interests, occupation):\n",
    "        self.name = name\n",
    "        self.interests = interests\n",
    "        self.occupation = occupation\n",
    "    \n",
    "    def get_details(self):\n",
    "        return \"The name is {}. My interests are {}. My occupation is {}\".format(\n",
    "            self.name,\n",
    "            self.interests,\n",
    "            self.occupation\n",
    "        )"
   ]
  },
  {
   "cell_type": "markdown",
   "metadata": {},
   "source": [
    "### Create an object called `about` without `params`"
   ]
  },
  {
   "cell_type": "code",
   "execution_count": 19,
   "metadata": {
    "scrolled": false
   },
   "outputs": [
    {
     "ename": "TypeError",
     "evalue": "__init__() missing 3 required positional arguments: 'name', 'interests', and 'occupation'",
     "output_type": "error",
     "traceback": [
      "\u001b[1;31m---------------------------------------------------------------------------\u001b[0m",
      "\u001b[1;31mTypeError\u001b[0m                                 Traceback (most recent call last)",
      "\u001b[1;32m<ipython-input-19-3d0c9c1ae6ed>\u001b[0m in \u001b[0;36m<module>\u001b[1;34m\u001b[0m\n\u001b[1;32m----> 1\u001b[1;33m \u001b[0mabout\u001b[0m \u001b[1;33m=\u001b[0m \u001b[0mAboutMe\u001b[0m\u001b[1;33m(\u001b[0m\u001b[1;33m)\u001b[0m\u001b[1;33m\u001b[0m\u001b[1;33m\u001b[0m\u001b[0m\n\u001b[0m",
      "\u001b[1;31mTypeError\u001b[0m: __init__() missing 3 required positional arguments: 'name', 'interests', and 'occupation'"
     ]
    }
   ],
   "source": [
    "about = AboutMe()"
   ]
  },
  {
   "cell_type": "markdown",
   "metadata": {},
   "source": [
    "The above output gives error which is about missing 3 positional arguments. This is because, in our `__init__()` method, we have provided 3 arguments excluding self."
   ]
  },
  {
   "cell_type": "markdown",
   "metadata": {},
   "source": [
    "### Create an object called `about` with `params`"
   ]
  },
  {
   "cell_type": "code",
   "execution_count": 20,
   "metadata": {},
   "outputs": [],
   "source": [
    "about = AboutMe(\n",
    "    name='Sameer',\n",
    "    interests='Coding and Blogging',\n",
    "    occupation='Mentoring'\n",
    ")"
   ]
  },
  {
   "cell_type": "markdown",
   "metadata": {},
   "source": [
    "### Check `type`"
   ]
  },
  {
   "cell_type": "code",
   "execution_count": 21,
   "metadata": {},
   "outputs": [
    {
     "name": "stdout",
     "output_type": "stream",
     "text": [
      "<class '__main__.AboutMe'>\n"
     ]
    }
   ],
   "source": [
    "print(type(about))"
   ]
  },
  {
   "cell_type": "markdown",
   "metadata": {},
   "source": [
    "### Instansiate the methods using the object `about`"
   ]
  },
  {
   "cell_type": "code",
   "execution_count": 22,
   "metadata": {},
   "outputs": [
    {
     "data": {
      "text/plain": [
       "'The name is Sameer. My interests are Coding and Blogging. My occupation is Mentoring'"
      ]
     },
     "execution_count": 22,
     "metadata": {},
     "output_type": "execute_result"
    }
   ],
   "source": [
    "about.get_details()"
   ]
  },
  {
   "cell_type": "markdown",
   "metadata": {},
   "source": [
    "### Templating examples"
   ]
  },
  {
   "cell_type": "code",
   "execution_count": 23,
   "metadata": {},
   "outputs": [
    {
     "name": "stdout",
     "output_type": "stream",
     "text": [
      "The name is Batman. My interests are Saving people. My occupation is Vigilante\n"
     ]
    }
   ],
   "source": [
    "about1 = AboutMe(\n",
    "    name='Batman', \n",
    "    interests='Saving people', \n",
    "    occupation='Vigilante'\n",
    ")\n",
    "details1 = about1.get_details()\n",
    "print(details1)"
   ]
  },
  {
   "cell_type": "code",
   "execution_count": 24,
   "metadata": {},
   "outputs": [
    {
     "name": "stdout",
     "output_type": "stream",
     "text": [
      "The name is Iron Man. My interests are Making Iron Man suits. My occupation is Owner of Stark Industries\n"
     ]
    }
   ],
   "source": [
    "about2 = AboutMe(\n",
    "    name='Iron Man', \n",
    "    interests='Making Iron Man suits', \n",
    "    occupation='Owner of Stark Industries'\n",
    ")\n",
    "details2 = about2.get_details()\n",
    "print(details2)"
   ]
  },
  {
   "cell_type": "code",
   "execution_count": 25,
   "metadata": {},
   "outputs": [
    {
     "name": "stdout",
     "output_type": "stream",
     "text": [
      "<class '__main__.AboutMe'>\n",
      "<class '__main__.AboutMe'>\n",
      "<class '__main__.AboutMe'>\n"
     ]
    }
   ],
   "source": [
    "print(type(about))\n",
    "print(type(about1))\n",
    "print(type(about2))"
   ]
  },
  {
   "cell_type": "code",
   "execution_count": 26,
   "metadata": {},
   "outputs": [
    {
     "name": "stdout",
     "output_type": "stream",
     "text": [
      "<class 'str'>\n",
      "<class 'str'>\n"
     ]
    }
   ],
   "source": [
    "s = \"python\"\n",
    "s1 = \"coding\"\n",
    "\n",
    "print(type(s))\n",
    "print(type(s1))"
   ]
  },
  {
   "cell_type": "code",
   "execution_count": 27,
   "metadata": {},
   "outputs": [
    {
     "name": "stdout",
     "output_type": "stream",
     "text": [
      "PYTHON\n",
      "CODING\n"
     ]
    }
   ],
   "source": [
    "print(s.upper())\n",
    "print(s1.upper())"
   ]
  },
  {
   "cell_type": "markdown",
   "metadata": {},
   "source": [
    "### More detailed Explanation\n",
    "\n",
    "1. Basic statistics - with classes\n",
    "2. Phone number shrinking - with classes"
   ]
  },
  {
   "cell_type": "markdown",
   "metadata": {},
   "source": [
    "# 1)"
   ]
  },
  {
   "cell_type": "markdown",
   "metadata": {},
   "source": [
    "<center><h2>Let's do some basic statistics</h2></center>"
   ]
  },
  {
   "cell_type": "markdown",
   "metadata": {},
   "source": [
    "### Mean - Average of numbers\n",
    "<br>\n",
    "<img src=\"https://raw.githubusercontent.com/msameeruddin/Python-Programming/main/5_Python_Classes/mean.png\">\n",
    "\n",
    "### Median - Middle value of the numbers\n",
    "<br>\n",
    "<img src=\"https://raw.githubusercontent.com/msameeruddin/Python-Programming/main/5_Python_Classes/median.png\">\n",
    "<br>\n",
    "\n",
    "**Image by Author**"
   ]
  },
  {
   "cell_type": "code",
   "execution_count": 28,
   "metadata": {},
   "outputs": [],
   "source": [
    "class SimpleStats():\n",
    "    def __init__(self):\n",
    "        \"\"\"\n",
    "        Simple class to compute basic statistics\n",
    "        \"\"\"\n",
    "        pass\n",
    "    \n",
    "    def is_even(self, size):\n",
    "        \"\"\"\n",
    "        Check if a given size number is even\n",
    "        :param int size: Integer number that basically tells the size\n",
    "        :return bool: True\n",
    "        \"\"\"\n",
    "        if size % 2 == 0:\n",
    "            return True\n",
    "        else:\n",
    "            return False\n",
    "    \n",
    "    def get_mean(self, array_list):\n",
    "        \"\"\"\n",
    "        Computes the average of the list of numbers\n",
    "        :param list array_list: List of numbers\n",
    "        :return float mean: Average value\n",
    "        \"\"\"\n",
    "        sumy = sum(array_list)\n",
    "        total = len(array_list)\n",
    "        mean = sumy / total\n",
    "        return mean\n",
    "    \n",
    "    def get_median(self, array_list):\n",
    "        \"\"\"\n",
    "        Computes the median from the list of numbers\n",
    "        :param list array_list: List of numbers\n",
    "        :return any(int, float) median: Median value\n",
    "        \"\"\"\n",
    "        sorted_arrays = sorted(array_list)\n",
    "        print(\"The sorted array is: \", sorted_arrays)\n",
    "        array_size = len(sorted_arrays)\n",
    "        \n",
    "        if self.is_even(array_size):\n",
    "            med_index_r = array_size // 2\n",
    "            med_index_l = med_index_r - 1\n",
    "            sub_array = [sorted_arrays[med_index_l], sorted_arrays[med_index_r]]\n",
    "            median = self.get_mean(array_list=sub_array)\n",
    "        else:\n",
    "            med_index = array_size // 2\n",
    "            median = sorted_arrays[med_index]\n",
    "        \n",
    "        return median"
   ]
  },
  {
   "cell_type": "code",
   "execution_count": 29,
   "metadata": {
    "scrolled": false
   },
   "outputs": [
    {
     "name": "stdout",
     "output_type": "stream",
     "text": [
      "Help on SimpleStats in module __main__ object:\n",
      "\n",
      "class SimpleStats(builtins.object)\n",
      " |  Methods defined here:\n",
      " |  \n",
      " |  __init__(self)\n",
      " |      Simple class to compute basic statistics\n",
      " |  \n",
      " |  get_mean(self, array_list)\n",
      " |      Computes the average of the list of numbers\n",
      " |      :param list array_list: List of numbers\n",
      " |      :return float mean: Average value\n",
      " |  \n",
      " |  get_median(self, array_list)\n",
      " |      Computes the median from the list of numbers\n",
      " |      :param list array_list: List of numbers\n",
      " |      :return any(int, float) median: Median value\n",
      " |  \n",
      " |  is_even(self, size)\n",
      " |      Check if a given size number is even\n",
      " |      :param int size: Integer number that basically tells the size\n",
      " |      :return bool: True\n",
      " |  \n",
      " |  ----------------------------------------------------------------------\n",
      " |  Data descriptors defined here:\n",
      " |  \n",
      " |  __dict__\n",
      " |      dictionary for instance variables (if defined)\n",
      " |  \n",
      " |  __weakref__\n",
      " |      list of weak references to the object (if defined)\n",
      "\n"
     ]
    }
   ],
   "source": [
    "stats = SimpleStats()\n",
    "help(stats)"
   ]
  },
  {
   "cell_type": "code",
   "execution_count": 30,
   "metadata": {},
   "outputs": [],
   "source": [
    "# dir(stats)"
   ]
  },
  {
   "cell_type": "markdown",
   "metadata": {},
   "source": [
    "### Object referral"
   ]
  },
  {
   "cell_type": "code",
   "execution_count": 31,
   "metadata": {},
   "outputs": [],
   "source": [
    "stats = SimpleStats()"
   ]
  },
  {
   "cell_type": "markdown",
   "metadata": {},
   "source": [
    "### Template making"
   ]
  },
  {
   "cell_type": "code",
   "execution_count": 32,
   "metadata": {},
   "outputs": [
    {
     "name": "stdout",
     "output_type": "stream",
     "text": [
      "The mean of [1, 5, 10, 32, 44, 53, 76, 9] is: 28.75\n",
      "The sorted array is:  [1, 5, 9, 10, 32, 44, 53, 76]\n",
      "The median of [1, 5, 10, 32, 44, 53, 76, 9] is: 21.0\n"
     ]
    }
   ],
   "source": [
    "array_list = [1, 5, 10, 32, 44, 53, 76, 9]\n",
    "mean = stats.get_mean(array_list=array_list)\n",
    "print(\"The mean of {} is: {}\".format(array_list, mean))\n",
    "median = stats.get_median(array_list=array_list)\n",
    "print(\"The median of {} is: {}\".format(array_list, median))"
   ]
  },
  {
   "cell_type": "code",
   "execution_count": 33,
   "metadata": {},
   "outputs": [
    {
     "name": "stdout",
     "output_type": "stream",
     "text": [
      "The mean of [1, 10, 15, 12, 19, 30, 90, 6] is: 22.875\n",
      "The sorted array is:  [1, 6, 10, 12, 15, 19, 30, 90]\n",
      "The median of [1, 10, 15, 12, 19, 30, 90, 6] is: 13.5\n"
     ]
    }
   ],
   "source": [
    "array_list = [1, 10, 15, 12, 19, 30, 90, 6]\n",
    "mean = stats.get_mean(array_list=array_list)\n",
    "print(\"The mean of {} is: {}\".format(array_list, mean))\n",
    "median = stats.get_median(array_list=array_list)\n",
    "print(\"The median of {} is: {}\".format(array_list, median))"
   ]
  },
  {
   "cell_type": "code",
   "execution_count": 34,
   "metadata": {},
   "outputs": [
    {
     "name": "stdout",
     "output_type": "stream",
     "text": [
      "The mean of [148, 108, 120, 118, 38, 35, 136, 80] is: 97.875\n",
      "The sorted array is:  [35, 38, 80, 108, 118, 120, 136, 148]\n",
      "The median of [148, 108, 120, 118, 38, 35, 136, 80] is: 113.0\n"
     ]
    }
   ],
   "source": [
    "import random\n",
    "\n",
    "array_list = [random.choice(range(10, 200)) for i in range(8)]\n",
    "mean = stats.get_mean(array_list=array_list)\n",
    "print(\"The mean of {} is: {}\".format(array_list, mean))\n",
    "median = stats.get_median(array_list=array_list)\n",
    "print(\"The median of {} is: {}\".format(array_list, median))"
   ]
  },
  {
   "cell_type": "markdown",
   "metadata": {},
   "source": [
    "# 2)"
   ]
  },
  {
   "cell_type": "markdown",
   "metadata": {},
   "source": [
    "<center><h2>Let's shrink a phone number</h2></center>"
   ]
  },
  {
   "cell_type": "markdown",
   "metadata": {},
   "source": [
    "<img src=\"https://raw.githubusercontent.com/msameeruddin/Python-Programming/main/5_Python_Classes/phone_encrypt.png\">\n",
    "\n",
    "**Image by Author**"
   ]
  },
  {
   "cell_type": "code",
   "execution_count": 35,
   "metadata": {},
   "outputs": [],
   "source": [
    "class ShrinkNumber():\n",
    "    def __init__(self, str_num):\n",
    "        self.str_num = str_num\n",
    "        print(\"Original Phone number : {}\".format(self.str_num))\n",
    "        self.total_splits_ = []\n",
    "        # method calling to get the splits of the number based on the condition\n",
    "        self.refine_nums()\n",
    "    \n",
    "    def split_nums(self, str_value):\n",
    "        sum_ = 0\n",
    "        count_ = 0\n",
    "        \n",
    "        if (int(str_value[0]) % 2 == 0):\n",
    "            # if the num is even\n",
    "            for i in range(1, len(str_value) + 1):\n",
    "                sum_ += int(str_value[i - 1])\n",
    "                count_ += 1\n",
    "                if ((sum_ % 2) != 0):\n",
    "                    self.total_splits_.append(str_value[:count_])\n",
    "                    # recursive method calling\n",
    "                    return self.split_nums(str_value[count_:])\n",
    "        else:\n",
    "            # if the num is odd\n",
    "            for i in range(1, len(str_value) + 1):\n",
    "                sum_ += int(str_value[i - 1])\n",
    "                count_ += 1\n",
    "                if ((sum_ % 2) == 0):\n",
    "                    self.total_splits_.append(str_value[:count_])\n",
    "                    # recursive method calling\n",
    "                    return self.split_nums(str_value[count_:])\n",
    "    \n",
    "    def refine_nums(self):\n",
    "        # check if the length of the number is 10\n",
    "        if len(self.str_num) == 10:\n",
    "            e = self.str_num[len(self.str_num) - 1]\n",
    "            try:\n",
    "                self.split_nums(str_value=self.str_num)\n",
    "                self.total_splits_.append(e)\n",
    "            except Exception as f:\n",
    "                return \"This number is not valid\"\n",
    "        # returning the statement when condition doesn't match\n",
    "        return \"Number exceeds the limit 10\"\n",
    "    \n",
    "    def resolve_number(self, num_list):\n",
    "        manipulated_ = ''\n",
    "        for i in num_list:\n",
    "            # summing up each split num after coverting it into int() and reconverting into str()\n",
    "            manipulated_ += str(sum([int(j) for j in list(i)]))\n",
    "        return manipulated_\n",
    "    \n",
    "    def shrinked(self):\n",
    "        if self.total_splits_:\n",
    "            # method calling to return the shrinked number\n",
    "            return self.resolve_number(num_list=self.total_splits_)\n",
    "        else:\n",
    "            return 'Invalid number'"
   ]
  },
  {
   "cell_type": "code",
   "execution_count": 36,
   "metadata": {
    "scrolled": false
   },
   "outputs": [
    {
     "name": "stdout",
     "output_type": "stream",
     "text": [
      "Original Phone number : 9481230447\n",
      "Help on ShrinkNumber in module __main__ object:\n",
      "\n",
      "class ShrinkNumber(builtins.object)\n",
      " |  ShrinkNumber(str_num)\n",
      " |  \n",
      " |  Methods defined here:\n",
      " |  \n",
      " |  __init__(self, str_num)\n",
      " |      Initialize self.  See help(type(self)) for accurate signature.\n",
      " |  \n",
      " |  refine_nums(self)\n",
      " |  \n",
      " |  resolve_number(self, num_list)\n",
      " |  \n",
      " |  shrinked(self)\n",
      " |  \n",
      " |  split_nums(self, str_value)\n",
      " |  \n",
      " |  ----------------------------------------------------------------------\n",
      " |  Data descriptors defined here:\n",
      " |  \n",
      " |  __dict__\n",
      " |      dictionary for instance variables (if defined)\n",
      " |  \n",
      " |  __weakref__\n",
      " |      list of weak references to the object (if defined)\n",
      "\n"
     ]
    }
   ],
   "source": [
    "phone_number = '9481230447'\n",
    "new_num = ShrinkNumber(str_num=phone_number)\n",
    "help(new_num)"
   ]
  },
  {
   "cell_type": "code",
   "execution_count": 37,
   "metadata": {},
   "outputs": [],
   "source": [
    "# dir(new_num)"
   ]
  },
  {
   "cell_type": "markdown",
   "metadata": {},
   "source": [
    "### Object referral & Template making"
   ]
  },
  {
   "cell_type": "code",
   "execution_count": 38,
   "metadata": {
    "scrolled": true
   },
   "outputs": [
    {
     "name": "stdout",
     "output_type": "stream",
     "text": [
      "Original Phone number : 9481230447\n",
      "Total splits by odd and even : ['9481', '23', '0447']\n",
      "Shrinked number : 22515\n"
     ]
    }
   ],
   "source": [
    "phone_number = '9481230447'\n",
    "new_num = ShrinkNumber(str_num=phone_number)\n",
    "print(\"Total splits by odd and even : {}\".format(new_num.total_splits_))\n",
    "print(\"Shrinked number : {}\".format(new_num.shrinked()))"
   ]
  },
  {
   "cell_type": "code",
   "execution_count": 39,
   "metadata": {
    "scrolled": true
   },
   "outputs": [
    {
     "name": "stdout",
     "output_type": "stream",
     "text": [
      "Original Phone number : 2124234230\n",
      "Total splits by odd and even : ['21', '2423', '423', '0']\n",
      "Shrinked number : 31190\n"
     ]
    }
   ],
   "source": [
    "phone_number = '2124234230'\n",
    "new_num = ShrinkNumber(str_num=phone_number)\n",
    "print(\"Total splits by odd and even : {}\".format(new_num.total_splits_))\n",
    "print(\"Shrinked number : {}\".format(new_num.shrinked()))"
   ]
  },
  {
   "cell_type": "code",
   "execution_count": 40,
   "metadata": {
    "scrolled": false
   },
   "outputs": [
    {
     "name": "stdout",
     "output_type": "stream",
     "text": [
      "Original Phone number : 9980490439\n",
      "Total splits by odd and even : ['99', '8049', '043', '9']\n",
      "Shrinked number : 182179\n"
     ]
    }
   ],
   "source": [
    "phone_number = '9980490439'\n",
    "new_num = ShrinkNumber(str_num=phone_number)\n",
    "print(\"Total splits by odd and even : {}\".format(new_num.total_splits_))\n",
    "print(\"Shrinked number : {}\".format(new_num.shrinked()))"
   ]
  },
  {
   "cell_type": "markdown",
   "metadata": {},
   "source": [
    "### What did we learn?"
   ]
  },
  {
   "cell_type": "markdown",
   "metadata": {},
   "source": [
    "* Class definition\n",
    "* Local variable and Global variable differences\n",
    "* Parameterized constructor and Non-parameterized constructor\n",
    "* More detailed explanation of class with examples\n",
    "    - Basic statistics\n",
    "    - Phone number shrinking"
   ]
  }
 ],
 "metadata": {
  "kernelspec": {
   "display_name": "Python 3",
   "language": "python",
   "name": "python3"
  },
  "language_info": {
   "codemirror_mode": {
    "name": "ipython",
    "version": 3
   },
   "file_extension": ".py",
   "mimetype": "text/x-python",
   "name": "python",
   "nbconvert_exporter": "python",
   "pygments_lexer": "ipython3",
   "version": "3.8.4"
  }
 },
 "nbformat": 4,
 "nbformat_minor": 2
}
