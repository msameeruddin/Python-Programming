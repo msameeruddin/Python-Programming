{
 "cells": [
  {
   "cell_type": "markdown",
   "metadata": {},
   "source": [
    "### Today's Agenda"
   ]
  },
  {
   "cell_type": "markdown",
   "metadata": {},
   "source": [
    "* Conditional statements\n",
    "* Nested conditional statements\n",
    "* Loops\n",
    "* Console based game development"
   ]
  },
  {
   "cell_type": "markdown",
   "metadata": {},
   "source": [
    "<center><h1>Conditional Statements</h1></center>"
   ]
  },
  {
   "cell_type": "markdown",
   "metadata": {},
   "source": [
    "**Definition:** \n",
    "\n",
    "* Conditional statements help a computer to make decision based on certain conditions. \n",
    "* A programmer writes a conditional statements in order to make a computer to perform an action if certain criteria meets its requirement or happens to be true."
   ]
  },
  {
   "cell_type": "markdown",
   "metadata": {},
   "source": [
    "### `if` - `else`"
   ]
  },
  {
   "cell_type": "markdown",
   "metadata": {},
   "source": [
    "```python\n",
    "if ():\n",
    "    # do addition\n",
    "else:\n",
    "    # do subtraction\n",
    "```\n",
    "\n",
    "<img src=\"https://raw.githubusercontent.com/msameeruddin/Python-Programming/main/3_Python_Conditions_Loops/conditional.png\">\n",
    "\n",
    "<br>\n",
    "\n",
    "**Image by author**"
   ]
  },
  {
   "cell_type": "markdown",
   "metadata": {},
   "source": [
    "### `if` - `elif` - `else`"
   ]
  },
  {
   "cell_type": "markdown",
   "metadata": {},
   "source": [
    "* `elif` is a short form for `else if`\n",
    "\n",
    "```python\n",
    "if ():\n",
    "    # do addition\n",
    "elif ():\n",
    "    # do multiplication\n",
    "else:\n",
    "    # do subtraction\n",
    "```\n",
    "\n",
    "<img src=\"https://raw.githubusercontent.com/msameeruddin/Python-Programming/main/3_Python_Conditions_Loops/elif.png\">\n",
    "\n",
    "<br>\n",
    "\n",
    "**Image by author**"
   ]
  },
  {
   "cell_type": "markdown",
   "metadata": {},
   "source": [
    "### `if` - `elif` - . . . - `elif` - `else`"
   ]
  },
  {
   "cell_type": "markdown",
   "metadata": {},
   "source": [
    "```python\n",
    "if ():\n",
    "    # do addition\n",
    "elif ():\n",
    "    # do multiplication\n",
    "elif ():\n",
    "    # do something\n",
    "elif ():\n",
    "    # do something\n",
    "else:\n",
    "    # do subtraction\n",
    "```\n",
    "\n",
    "<img src=\"https://raw.githubusercontent.com/msameeruddin/Python-Programming/main/3_Python_Conditions_Loops/multi_elif.png\">\n",
    "\n",
    "<br>\n",
    "\n",
    "**Image by author**"
   ]
  },
  {
   "cell_type": "markdown",
   "metadata": {},
   "source": [
    "**Note** - We can have as many number of `elif` conditions, but there should be only one `if` and one `else` if following this chain."
   ]
  },
  {
   "cell_type": "markdown",
   "metadata": {},
   "source": [
    "<center><h1>Real-life Scenario</h1></center>"
   ]
  },
  {
   "cell_type": "markdown",
   "metadata": {},
   "source": [
    "**Postman delivering letters to a particular address**\n",
    "\n",
    "Imagine there is a postman whose job is to deliver post (message) to a particular address. He is given only a specific address in which he will have - \n",
    "\n",
    "* house_no\n",
    "* street_no\n",
    "* street_name\n",
    "* place\n",
    "\n",
    "<br>\n",
    "\n",
    "```python\n",
    "if (place == \"<place_value>\"):\n",
    "    if (street_name == \"<st_name_value>\"):\n",
    "        if (street_no == \"<st_no_value>\"):\n",
    "            if (house_no == \"<house_no_value>\"):\n",
    "                print(\"Post is successfully delivered\")\n",
    "            else:\n",
    "                print(\"House no - invalid\")\n",
    "        else:\n",
    "            print(\"Street no - invalid\")\n",
    "    else:\n",
    "        print(\"Street name - invalid\")\n",
    "else:\n",
    "    print(\"Place - invalid\")\n",
    "```\n",
    "\n",
    "<br>\n",
    "\n",
    "<img src=\"https://raw.githubusercontent.com/msameeruddin/Python-Programming/main/3_Python_Conditions_Loops/address.png\">\n",
    "\n",
    "<br>\n",
    "\n",
    "Once he collects the posts from the office he is on his way to deliver them to the respective addresses.\n",
    "\n",
    "<br>\n",
    "\n",
    "<img src=\"https://raw.githubusercontent.com/msameeruddin/Python-Programming/main/3_Python_Conditions_Loops/london.png\">\n",
    "\n",
    "<br>\n",
    "\n",
    "Once he knows where the `Baker Street` is, he will not check other streets where he can waste his time in searching.\n",
    "\n",
    "<br>\n",
    "\n",
    "<img src=\"https://raw.githubusercontent.com/msameeruddin/Python-Programming/main/3_Python_Conditions_Loops/bakerstreet.png\">\n",
    "\n",
    "<br>\n",
    "\n",
    "Once he knows where the street number `B` is, he will not check other street numbers where he can waste his time in searching.\n",
    "\n",
    "<br>\n",
    "\n",
    "<img src=\"https://raw.githubusercontent.com/msameeruddin/Python-Programming/main/3_Python_Conditions_Loops/221.png\">\n",
    "\n",
    "<br>\n",
    "\n",
    "Once he knows where the respective door number `221` is, he will not check other door numbers where he can waste his time in searching.\n",
    "\n",
    "<br>\n",
    "\n",
    "**Images by author**"
   ]
  },
  {
   "cell_type": "markdown",
   "metadata": {},
   "source": [
    "**What happens inside Computer?**\n",
    "\n",
    "* Compiler / Interpreter, in background goes with same approach in discarding other conditions once the required codition is met."
   ]
  },
  {
   "cell_type": "markdown",
   "metadata": {},
   "source": [
    "### `casefold()` example"
   ]
  },
  {
   "cell_type": "code",
   "execution_count": 1,
   "metadata": {},
   "outputs": [
    {
     "name": "stdout",
     "output_type": "stream",
     "text": [
      "before PYThon\n",
      "after python\n",
      "after python\n"
     ]
    }
   ],
   "source": [
    "s = \"PYThon\" # python\n",
    "# dir(s)\n",
    "\n",
    "# casefold() is a string method\n",
    "# lower()\n",
    "print(\"before\", s)\n",
    "print(\"after\", s.casefold())\n",
    "print(\"after\", s.lower())\n",
    "# print(\"after\", s.upper())"
   ]
  },
  {
   "cell_type": "markdown",
   "metadata": {},
   "source": [
    "### Example with `input()`"
   ]
  },
  {
   "cell_type": "code",
   "execution_count": 2,
   "metadata": {
    "scrolled": false
   },
   "outputs": [
    {
     "name": "stdout",
     "output_type": "stream",
     "text": [
      "Enter anything: 12\n",
      "The entered input is -  12\n",
      "The datatype is - <class 'str'>\n"
     ]
    }
   ],
   "source": [
    "e = input(\"Enter anything: \")\n",
    "print(\"The entered input is - \", e)\n",
    "print(\"The datatype is - {}\".format(type(e)))"
   ]
  },
  {
   "cell_type": "markdown",
   "metadata": {},
   "source": [
    "### Example with `eval()`\n",
    "\n",
    "**Note** - In the below example I am using `input()` function along with `eval()`."
   ]
  },
  {
   "cell_type": "code",
   "execution_count": 3,
   "metadata": {
    "scrolled": false
   },
   "outputs": [
    {
     "name": "stdout",
     "output_type": "stream",
     "text": [
      "Enter anything: 12\n",
      "The entered input is - 12\n",
      "The datatype is - <class 'int'>\n"
     ]
    }
   ],
   "source": [
    "e = eval(input(\"Enter anything: \"))\n",
    "print(\"The entered input is - {}\".format(e))\n",
    "print(\"The datatype is - {}\".format(type(e)))"
   ]
  },
  {
   "cell_type": "markdown",
   "metadata": {},
   "source": [
    "### `input()`  v/s  `eval()`"
   ]
  },
  {
   "cell_type": "markdown",
   "metadata": {},
   "source": [
    "* `input()` - takes everything as string.\n",
    "* `eval()` - directly evaluates the data based on its type.\n",
    "    - This can be achieved only when `eval()` is used along with `input()`. \n",
    "    - Otherwise the functionality of `eval()` is different from `input()`."
   ]
  },
  {
   "cell_type": "markdown",
   "metadata": {},
   "source": [
    "### `.format()`"
   ]
  },
  {
   "cell_type": "code",
   "execution_count": 4,
   "metadata": {},
   "outputs": [
    {
     "data": {
      "text/plain": [
       "'hi 12'"
      ]
     },
     "execution_count": 4,
     "metadata": {},
     "output_type": "execute_result"
    }
   ],
   "source": [
    "'hi ' + str(12)"
   ]
  },
  {
   "cell_type": "code",
   "execution_count": 5,
   "metadata": {},
   "outputs": [
    {
     "name": "stdout",
     "output_type": "stream",
     "text": [
      "Python 1 - 2\n",
      "Python 1 - 2\n",
      "Python 1 - 2\n"
     ]
    }
   ],
   "source": [
    "# Python 1 - 2\n",
    "\n",
    "print(\"Python 1 - 2\")\n",
    "s0 = 'Python '\n",
    "s1 = 1\n",
    "s2 = 2\n",
    "\n",
    "s = s0 + str(s1) + ' - ' + str(s2)\n",
    "print(s)\n",
    "\n",
    "s = \"{}{} - {}\".format(s0, s1, s2)\n",
    "print(s)"
   ]
  },
  {
   "cell_type": "markdown",
   "metadata": {},
   "source": [
    "### Example of `if`, `elif` and `else`"
   ]
  },
  {
   "cell_type": "code",
   "execution_count": 6,
   "metadata": {
    "scrolled": true
   },
   "outputs": [
    {
     "name": "stdout",
     "output_type": "stream",
     "text": [
      "enter season: rainy\n",
      "The entered input -  rainy\n",
      "Take Umbrella\n"
     ]
    }
   ],
   "source": [
    "in_ = input(\"enter season: \").casefold()\n",
    "print(\"The entered input - \", in_)\n",
    "\n",
    "if (in_ == 'rainy'):\n",
    "    print(\"Take Umbrella\")\n",
    "\n",
    "elif (in_ == 'winter'):\n",
    "    print(\"Wear Sweater\")\n",
    "\n",
    "elif (in_ == 'summer'):\n",
    "    print(\"Consume Watery (Healthy) Food\")\n",
    "\n",
    "elif (in_ == 'spring'):\n",
    "    print(\"Do Exercise\")\n",
    "\n",
    "else:\n",
    "    print(\"The input value is not season\")"
   ]
  },
  {
   "cell_type": "markdown",
   "metadata": {},
   "source": [
    "<center><h1>Nested Conditional Statements</h1></center>"
   ]
  },
  {
   "cell_type": "markdown",
   "metadata": {},
   "source": [
    "* Using `if` `elif` statements inside one or more `if` `elif` statements is called Nesting.\n",
    "\n",
    "* The use of nested `if` condition is that, you can check for a condition inside a condition and keep having nested conditions until the requirement is met.\n",
    "\n",
    "* **Structure**\n",
    "\n",
    "```python\n",
    "if ():\n",
    "    \n",
    "    if ():\n",
    "        # do something\n",
    "    elif ():\n",
    "        # do something\n",
    "    else:\n",
    "        # do something\n",
    "\n",
    "elif ():\n",
    "    \n",
    "    if ():\n",
    "        # do something\n",
    "    elif ():\n",
    "        # do something\n",
    "    else:\n",
    "        # do something\n",
    "\n",
    "else:\n",
    "    \n",
    "    if ():\n",
    "        # do something\n",
    "    elif ():\n",
    "        # do something\n",
    "    else:\n",
    "        # do something   \n",
    "```\n",
    "\n",
    "**Note :** I will leave the flow chart representation to you itself. Most of it is same and can be drawn easily."
   ]
  },
  {
   "cell_type": "markdown",
   "metadata": {},
   "source": [
    "### Example of nested `if` conditions"
   ]
  },
  {
   "cell_type": "code",
   "execution_count": 7,
   "metadata": {
    "scrolled": true
   },
   "outputs": [
    {
     "name": "stdout",
     "output_type": "stream",
     "text": [
      "enter season: 12\n",
      "12\n",
      "<class 'int'>\n",
      "Input not understood!!!\n"
     ]
    }
   ],
   "source": [
    "in_ = eval(input(\"enter season: \"))\n",
    "print(in_)\n",
    "\n",
    "\n",
    "if isinstance(in_, str):\n",
    "    print(type(in_))\n",
    "    in_ = in_.casefold()\n",
    "\n",
    "    if (in_ == 'rainy'):\n",
    "        print(\"Take Umbrella\")\n",
    "\n",
    "    elif (in_ == 'winter'):\n",
    "        print(\"Wear Sweater\")\n",
    "\n",
    "    elif (in_ == 'summer'):\n",
    "        print(\"Consume Watery (Healthy) Food\")\n",
    "\n",
    "    elif (in_ == 'spring'):\n",
    "        print(\"Do Exercise\")\n",
    "\n",
    "    else:\n",
    "        print(\"The input value is not season\")\n",
    "\n",
    "else:\n",
    "    print(type(in_))\n",
    "    print(\"Input not understood!!!\")"
   ]
  },
  {
   "cell_type": "markdown",
   "metadata": {},
   "source": [
    "<center><h1>Loops in Python</h1></center>"
   ]
  },
  {
   "cell_type": "markdown",
   "metadata": {},
   "source": [
    "Loop is basically a sequence of instructions that is repeated continually and checked until a certain condition is met or happens to be True.\n",
    "\n",
    "**Types of loops**\n",
    "\n",
    "* While loop\n",
    "* for loop\n",
    "* Nested loop - can be of both `for` and `while`"
   ]
  },
  {
   "cell_type": "markdown",
   "metadata": {},
   "source": [
    "### `print(\"hi\")` 10 times using `while`"
   ]
  },
  {
   "cell_type": "code",
   "execution_count": 8,
   "metadata": {
    "scrolled": false
   },
   "outputs": [
    {
     "name": "stdout",
     "output_type": "stream",
     "text": [
      "hi -->  1\n",
      "hi -->  2\n",
      "hi -->  3\n",
      "hi -->  4\n",
      "hi -->  5\n",
      "hi -->  6\n",
      "hi -->  7\n",
      "hi -->  8\n",
      "hi -->  9\n",
      "hi -->  10\n",
      "Bye\n"
     ]
    }
   ],
   "source": [
    "counter = 1\n",
    "while (counter < 11):\n",
    "    print('hi --> ', counter)\n",
    "    counter = counter + 1\n",
    "else:\n",
    "    print(\"Bye\")"
   ]
  },
  {
   "cell_type": "code",
   "execution_count": 9,
   "metadata": {
    "scrolled": false
   },
   "outputs": [],
   "source": [
    "# import time\n",
    "\n",
    "# counter = 1\n",
    "# while (True):\n",
    "#     print('{} --> hi'.format(counter))\n",
    "#     time.sleep(1)\n",
    "#     counter = counter + 1"
   ]
  },
  {
   "cell_type": "markdown",
   "metadata": {},
   "source": [
    "### `print(\"hi\")` 10 times using `for`"
   ]
  },
  {
   "cell_type": "markdown",
   "metadata": {},
   "source": [
    "**Note:** For the working of `for` loop, we need a `sequence object` to iterate through each element and perform the execution.\n",
    "* `range()` gives a sequence object. \n",
    "* We can also have a `string`/`list`/`array`/`tuple`/`dictionary` as a sequence object."
   ]
  },
  {
   "cell_type": "code",
   "execution_count": 10,
   "metadata": {},
   "outputs": [
    {
     "data": {
      "text/plain": [
       "[1, 2, 3, 4, 5, 6, 7, 8, 9, 10]"
      ]
     },
     "execution_count": 10,
     "metadata": {},
     "output_type": "execute_result"
    }
   ],
   "source": [
    "# help(range)\n",
    "list(range(1, 11))"
   ]
  },
  {
   "cell_type": "code",
   "execution_count": 11,
   "metadata": {
    "scrolled": false
   },
   "outputs": [
    {
     "name": "stdout",
     "output_type": "stream",
     "text": [
      "hi -->  1\n",
      "hi -->  2\n",
      "hi -->  3\n",
      "hi -->  4\n",
      "hi -->  5\n",
      "hi -->  6\n",
      "hi -->  7\n",
      "hi -->  8\n",
      "hi -->  9\n",
      "hi -->  10\n"
     ]
    }
   ],
   "source": [
    "for counter in range(1, 11):\n",
    "    print('hi --> ', counter)"
   ]
  },
  {
   "cell_type": "markdown",
   "metadata": {},
   "source": [
    "### Elementwise adding of two lists using `while` loop"
   ]
  },
  {
   "cell_type": "code",
   "execution_count": 12,
   "metadata": {
    "scrolled": false
   },
   "outputs": [
    {
     "name": "stdout",
     "output_type": "stream",
     "text": [
      "5\n",
      "5\n"
     ]
    }
   ],
   "source": [
    "l1 = [1, 2, 3, 4, 5]\n",
    "l2 = [4, 5, 10, 12, 14]\n",
    "print(len(l1))\n",
    "print(len(l2))"
   ]
  },
  {
   "cell_type": "code",
   "execution_count": 13,
   "metadata": {},
   "outputs": [
    {
     "data": {
      "text/plain": [
       "[1, 2, 3, 4, 5, 4, 5, 10, 12, 14]"
      ]
     },
     "execution_count": 13,
     "metadata": {},
     "output_type": "execute_result"
    }
   ],
   "source": [
    "l1 + l2 # [5, 7, 13, 16, 19]"
   ]
  },
  {
   "cell_type": "code",
   "execution_count": 14,
   "metadata": {},
   "outputs": [],
   "source": [
    "l3 = []\n",
    "c = 0\n",
    "\n",
    "if (len(l1) == len(l2)):\n",
    "    while (c < len(l2)):\n",
    "        res = l1[c] + l2[c]\n",
    "        l3.append(res)\n",
    "        c += 1\n",
    "else:\n",
    "    print(\"Lengths do not match\")"
   ]
  },
  {
   "cell_type": "code",
   "execution_count": 15,
   "metadata": {},
   "outputs": [
    {
     "name": "stdout",
     "output_type": "stream",
     "text": [
      "[5, 7, 13, 16, 19]\n"
     ]
    }
   ],
   "source": [
    "print(l3)"
   ]
  },
  {
   "cell_type": "markdown",
   "metadata": {},
   "source": [
    "### Elementwise adding of two lists using `for` loop"
   ]
  },
  {
   "cell_type": "code",
   "execution_count": 16,
   "metadata": {},
   "outputs": [
    {
     "name": "stdout",
     "output_type": "stream",
     "text": [
      "5\n",
      "5\n"
     ]
    }
   ],
   "source": [
    "l1 = [1, 2, 3, 4, 5]\n",
    "l2 = [4, 5, 10, 12, 14]\n",
    "print(len(l1))\n",
    "print(len(l2))"
   ]
  },
  {
   "cell_type": "code",
   "execution_count": 17,
   "metadata": {},
   "outputs": [],
   "source": [
    "l3 = []\n",
    "\n",
    "if (len(l1) == len(l2)):\n",
    "    for i in range(len(l1)):\n",
    "        res = l1[i] + l2[i]\n",
    "        l3.append(res)\n",
    "else:\n",
    "    print(\"Lengths do not match\")"
   ]
  },
  {
   "cell_type": "code",
   "execution_count": 18,
   "metadata": {},
   "outputs": [
    {
     "name": "stdout",
     "output_type": "stream",
     "text": [
      "[5, 7, 13, 16, 19]\n"
     ]
    }
   ],
   "source": [
    "print(l3)"
   ]
  },
  {
   "cell_type": "markdown",
   "metadata": {},
   "source": [
    "### Magic code"
   ]
  },
  {
   "cell_type": "code",
   "execution_count": 19,
   "metadata": {},
   "outputs": [
    {
     "name": "stdout",
     "output_type": "stream",
     "text": [
      "5\n",
      "5\n"
     ]
    }
   ],
   "source": [
    "l1 = [1, 2, 3, 4, 5]\n",
    "l2 = [4, 5, 10, 12, 14]\n",
    "print(len(l1))\n",
    "print(len(l2))"
   ]
  },
  {
   "cell_type": "code",
   "execution_count": 20,
   "metadata": {
    "scrolled": false
   },
   "outputs": [],
   "source": [
    "if (len(l1) == len(l2)):\n",
    "    l3 = list(map(sum, list(zip(l1, l2))))\n",
    "else:\n",
    "    l3 = []\n",
    "    print(\"Lengths do not match\")"
   ]
  },
  {
   "cell_type": "code",
   "execution_count": 21,
   "metadata": {},
   "outputs": [
    {
     "name": "stdout",
     "output_type": "stream",
     "text": [
      "[5, 7, 13, 16, 19]\n"
     ]
    }
   ],
   "source": [
    "print(l3)"
   ]
  },
  {
   "cell_type": "markdown",
   "metadata": {},
   "source": [
    "<h1><center>Rock Paper Scissors</center></h1>\n",
    "<br>\n",
    "\n",
    "**Console based game development**"
   ]
  },
  {
   "cell_type": "code",
   "execution_count": 22,
   "metadata": {
    "scrolled": false
   },
   "outputs": [
    {
     "name": "stdout",
     "output_type": "stream",
     "text": [
      "Sherlock\t: r\n",
      "Mycroft \t: r\n",
      "Match Draw\n",
      "\n",
      "\n",
      "Want to play again? (y/n): n\n",
      "\n",
      "\n",
      "See you again. Bye\n"
     ]
    }
   ],
   "source": [
    "## let's develop a game using the above concepts ##\n",
    "\n",
    "while (True):\n",
    "    one_user = input(\"Sherlock\\t: \").casefold()\n",
    "    two_user = input(\"Mycroft \\t: \").casefold()\n",
    "    \n",
    "    if (one_user == two_user):\n",
    "        print(\"Match Draw\")\n",
    "    \n",
    "    elif (one_user == 'r') and (two_user == 'p'):\n",
    "        print(\"Mycroft won the game\")\n",
    "    elif (one_user == 'r') and (two_user == 's'):\n",
    "        print(\"Sherlock won the game\")\n",
    "\n",
    "    elif (one_user == 'p') and (two_user == 'r'):\n",
    "        print(\"Sherlock won the game\")\n",
    "    elif (one_user == 'p') and (two_user == 's'):\n",
    "        print(\"Mycroft won the game\")\n",
    "\n",
    "    elif (one_user == 's') and (two_user == 'p'):\n",
    "        print(\"Sherlock won the game\")\n",
    "    elif (one_user == 's') and (two_user == 'r'):\n",
    "        print(\"Mycroft won the game\")\n",
    "    \n",
    "    else:\n",
    "        print(\"Inputs do not match.\")\n",
    "    \n",
    "    print(\"\\n\")\n",
    "    continue_input = input(\"Want to play again? (y/n): \").casefold()\n",
    "    print(\"\\n\")\n",
    "\n",
    "    if (continue_input == 'y') or (continue_input == 'yes'):\n",
    "        continue\n",
    "    else:\n",
    "        print(\"See you again. Bye\")\n",
    "        break"
   ]
  },
  {
   "cell_type": "markdown",
   "metadata": {},
   "source": [
    "### Homework / Exercise"
   ]
  },
  {
   "cell_type": "markdown",
   "metadata": {},
   "source": [
    "* Take the rock paper scissors code and instead of having 2 humans (users) giving the input, change it to `1 human` versus `1 computer`.\n",
    "    - `1 human` - should give input as usual.\n",
    "    - `1 computer` - should select random element from `r`, `p`, `s`.\n",
    "\n",
    "**Hint -**\n",
    "\n",
    "* You should use `random` module which you will need to import.\n",
    "\n",
    "* Explore what `random` module is and how to use it for this example."
   ]
  },
  {
   "cell_type": "markdown",
   "metadata": {},
   "source": [
    "### What did we learn?"
   ]
  },
  {
   "cell_type": "markdown",
   "metadata": {},
   "source": [
    "* Conditional Statements\n",
    "* Nested Conditional Statements\n",
    "* Loops\n",
    "    - while loop\n",
    "    - for loop\n",
    "* Elementwise adding of two lists\n",
    "* Control statements `break` and `continue`\n",
    "* Simple game development"
   ]
  }
 ],
 "metadata": {
  "kernelspec": {
   "display_name": "Python 3",
   "language": "python",
   "name": "python3"
  },
  "language_info": {
   "codemirror_mode": {
    "name": "ipython",
    "version": 3
   },
   "file_extension": ".py",
   "mimetype": "text/x-python",
   "name": "python",
   "nbconvert_exporter": "python",
   "pygments_lexer": "ipython3",
   "version": "3.8.4"
  },
  "varInspector": {
   "cols": {
    "lenName": 16,
    "lenType": 16,
    "lenVar": 40
   },
   "kernels_config": {
    "python": {
     "delete_cmd_postfix": "",
     "delete_cmd_prefix": "del ",
     "library": "var_list.py",
     "varRefreshCmd": "print(var_dic_list())"
    },
    "r": {
     "delete_cmd_postfix": ") ",
     "delete_cmd_prefix": "rm(",
     "library": "var_list.r",
     "varRefreshCmd": "cat(var_dic_list()) "
    }
   },
   "types_to_exclude": [
    "module",
    "function",
    "builtin_function_or_method",
    "instance",
    "_Feature"
   ],
   "window_display": false
  }
 },
 "nbformat": 4,
 "nbformat_minor": 2
}
