{
 "cells": [
  {
   "cell_type": "markdown",
   "metadata": {},
   "source": [
    "<center><h1>File Handling in Python</h1></center>"
   ]
  },
  {
   "cell_type": "markdown",
   "metadata": {},
   "source": [
    "File handling in python is simply `reading`, `writing`, and `managing` a file."
   ]
  },
  {
   "cell_type": "markdown",
   "metadata": {},
   "source": [
    "### **What exactly are we writing into file?**"
   ]
  },
  {
   "cell_type": "markdown",
   "metadata": {},
   "source": [
    "We can write anything we want. But whatever we write - is termed as `data`; the crucial thing for understanding and processing the resources."
   ]
  },
  {
   "cell_type": "markdown",
   "metadata": {},
   "source": [
    "### Procedure to handle files"
   ]
  },
  {
   "cell_type": "markdown",
   "metadata": {},
   "source": [
    "<img src=\"https://qph.fs.quoracdn.net/main-qimg-c47ec0f011ff0bbc9e7ee7d20c4ae107\">\n",
    "\n",
    "**Credits** - Image from Internet"
   ]
  },
  {
   "cell_type": "markdown",
   "metadata": {},
   "source": [
    "### **Main functions / methods**"
   ]
  },
  {
   "cell_type": "markdown",
   "metadata": {},
   "source": [
    "```python\n",
    "open() # function\n",
    "```\n",
    "\n",
    "```python\n",
    ".close() # method\n",
    "```"
   ]
  },
  {
   "cell_type": "code",
   "execution_count": 1,
   "metadata": {
    "scrolled": false
   },
   "outputs": [
    {
     "name": "stdout",
     "output_type": "stream",
     "text": [
      "Help on built-in function open in module io:\n",
      "\n",
      "open(file, mode='r', buffering=-1, encoding=None, errors=None, newline=None, closefd=True, opener=None)\n",
      "    Open file and return a stream.  Raise OSError upon failure.\n",
      "    \n",
      "    file is either a text or byte string giving the name (and the path\n",
      "    if the file isn't in the current working directory) of the file to\n",
      "    be opened or an integer file descriptor of the file to be\n",
      "    wrapped. (If a file descriptor is given, it is closed when the\n",
      "    returned I/O object is closed, unless closefd is set to False.)\n",
      "    \n",
      "    mode is an optional string that specifies the mode in which the file\n",
      "    is opened. It defaults to 'r' which means open for reading in text\n",
      "    mode.  Other common values are 'w' for writing (truncating the file if\n",
      "    it already exists), 'x' for creating and writing to a new file, and\n",
      "    'a' for appending (which on some Unix systems, means that all writes\n",
      "    append to the end of the file regardless of the current seek position).\n",
      "    In text mode, if encoding is not specified the encoding used is platform\n",
      "    dependent: locale.getpreferredencoding(False) is called to get the\n",
      "    current locale encoding. (For reading and writing raw bytes use binary\n",
      "    mode and leave encoding unspecified.) The available modes are:\n",
      "    \n",
      "    ========= ===============================================================\n",
      "    Character Meaning\n",
      "    --------- ---------------------------------------------------------------\n",
      "    'r'       open for reading (default)\n",
      "    'w'       open for writing, truncating the file first\n",
      "    'x'       create a new file and open it for writing\n",
      "    'a'       open for writing, appending to the end of the file if it exists\n",
      "    'b'       binary mode\n",
      "    't'       text mode (default)\n",
      "    '+'       open a disk file for updating (reading and writing)\n",
      "    'U'       universal newline mode (deprecated)\n",
      "    ========= ===============================================================\n",
      "    \n",
      "    The default mode is 'rt' (open for reading text). For binary random\n",
      "    access, the mode 'w+b' opens and truncates the file to 0 bytes, while\n",
      "    'r+b' opens the file without truncation. The 'x' mode implies 'w' and\n",
      "    raises an `FileExistsError` if the file already exists.\n",
      "    \n",
      "    Python distinguishes between files opened in binary and text modes,\n",
      "    even when the underlying operating system doesn't. Files opened in\n",
      "    binary mode (appending 'b' to the mode argument) return contents as\n",
      "    bytes objects without any decoding. In text mode (the default, or when\n",
      "    't' is appended to the mode argument), the contents of the file are\n",
      "    returned as strings, the bytes having been first decoded using a\n",
      "    platform-dependent encoding or using the specified encoding if given.\n",
      "    \n",
      "    'U' mode is deprecated and will raise an exception in future versions\n",
      "    of Python.  It has no effect in Python 3.  Use newline to control\n",
      "    universal newlines mode.\n",
      "    \n",
      "    buffering is an optional integer used to set the buffering policy.\n",
      "    Pass 0 to switch buffering off (only allowed in binary mode), 1 to select\n",
      "    line buffering (only usable in text mode), and an integer > 1 to indicate\n",
      "    the size of a fixed-size chunk buffer.  When no buffering argument is\n",
      "    given, the default buffering policy works as follows:\n",
      "    \n",
      "    * Binary files are buffered in fixed-size chunks; the size of the buffer\n",
      "      is chosen using a heuristic trying to determine the underlying device's\n",
      "      \"block size\" and falling back on `io.DEFAULT_BUFFER_SIZE`.\n",
      "      On many systems, the buffer will typically be 4096 or 8192 bytes long.\n",
      "    \n",
      "    * \"Interactive\" text files (files for which isatty() returns True)\n",
      "      use line buffering.  Other text files use the policy described above\n",
      "      for binary files.\n",
      "    \n",
      "    encoding is the name of the encoding used to decode or encode the\n",
      "    file. This should only be used in text mode. The default encoding is\n",
      "    platform dependent, but any encoding supported by Python can be\n",
      "    passed.  See the codecs module for the list of supported encodings.\n",
      "    \n",
      "    errors is an optional string that specifies how encoding errors are to\n",
      "    be handled---this argument should not be used in binary mode. Pass\n",
      "    'strict' to raise a ValueError exception if there is an encoding error\n",
      "    (the default of None has the same effect), or pass 'ignore' to ignore\n",
      "    errors. (Note that ignoring encoding errors can lead to data loss.)\n",
      "    See the documentation for codecs.register or run 'help(codecs.Codec)'\n",
      "    for a list of the permitted encoding error strings.\n",
      "    \n",
      "    newline controls how universal newlines works (it only applies to text\n",
      "    mode). It can be None, '', '\\n', '\\r', and '\\r\\n'.  It works as\n",
      "    follows:\n",
      "    \n",
      "    * On input, if newline is None, universal newlines mode is\n",
      "      enabled. Lines in the input can end in '\\n', '\\r', or '\\r\\n', and\n",
      "      these are translated into '\\n' before being returned to the\n",
      "      caller. If it is '', universal newline mode is enabled, but line\n",
      "      endings are returned to the caller untranslated. If it has any of\n",
      "      the other legal values, input lines are only terminated by the given\n",
      "      string, and the line ending is returned to the caller untranslated.\n",
      "    \n",
      "    * On output, if newline is None, any '\\n' characters written are\n",
      "      translated to the system default line separator, os.linesep. If\n",
      "      newline is '' or '\\n', no translation takes place. If newline is any\n",
      "      of the other legal values, any '\\n' characters written are translated\n",
      "      to the given string.\n",
      "    \n",
      "    If closefd is False, the underlying file descriptor will be kept open\n",
      "    when the file is closed. This does not work when a file name is given\n",
      "    and must be True in that case.\n",
      "    \n",
      "    A custom opener can be used by passing a callable as *opener*. The\n",
      "    underlying file descriptor for the file object is then obtained by\n",
      "    calling *opener* with (*file*, *flags*). *opener* must return an open\n",
      "    file descriptor (passing os.open as *opener* results in functionality\n",
      "    similar to passing None).\n",
      "    \n",
      "    open() returns a file object whose type depends on the mode, and\n",
      "    through which the standard file operations such as reading and writing\n",
      "    are performed. When open() is used to open a file in a text mode ('w',\n",
      "    'r', 'wt', 'rt', etc.), it returns a TextIOWrapper. When used to open\n",
      "    a file in a binary mode, the returned class varies: in read binary\n",
      "    mode, it returns a BufferedReader; in write binary and append binary\n",
      "    modes, it returns a BufferedWriter, and in read/write mode, it returns\n",
      "    a BufferedRandom.\n",
      "    \n",
      "    It is also possible to use a string or bytearray as a file for both\n",
      "    reading and writing. For strings StringIO can be used like a file\n",
      "    opened in a text mode, and for bytes a BytesIO can be used like a file\n",
      "    opened in a binary mode.\n",
      "\n"
     ]
    }
   ],
   "source": [
    "help(open)"
   ]
  },
  {
   "cell_type": "markdown",
   "metadata": {},
   "source": [
    "### Well known modes to handle files"
   ]
  },
  {
   "cell_type": "markdown",
   "metadata": {},
   "source": [
    "* `r` - reading\n",
    "* `w` - writing\n",
    "* `a` - appending\n",
    "* `r+` - for both reading and writing"
   ]
  },
  {
   "cell_type": "markdown",
   "metadata": {},
   "source": [
    "### Reading"
   ]
  },
  {
   "cell_type": "code",
   "execution_count": 2,
   "metadata": {},
   "outputs": [],
   "source": [
    "my_file = open(file='basic_sample.txt', mode='r')\n",
    "##########\n",
    "\n",
    "data = my_file.read()\n",
    "\n",
    "##########\n",
    "my_file.close()"
   ]
  },
  {
   "cell_type": "code",
   "execution_count": 3,
   "metadata": {},
   "outputs": [
    {
     "name": "stdout",
     "output_type": "stream",
     "text": [
      "16\n"
     ]
    }
   ],
   "source": [
    "# print data\n",
    "print(len(data))"
   ]
  },
  {
   "cell_type": "code",
   "execution_count": 4,
   "metadata": {},
   "outputs": [
    {
     "data": {
      "text/plain": [
       "'Python is superb'"
      ]
     },
     "execution_count": 4,
     "metadata": {},
     "output_type": "execute_result"
    }
   ],
   "source": [
    "data"
   ]
  },
  {
   "cell_type": "markdown",
   "metadata": {},
   "source": [
    "The data is `Nil` because there is no content in it. Let's add some content in the file.\n",
    "\n",
    "* content to add → **Python is superb**\n",
    "* Open the file and type manually"
   ]
  },
  {
   "cell_type": "code",
   "execution_count": 5,
   "metadata": {},
   "outputs": [],
   "source": [
    "my_file = open(file='basic_sample.txt', mode='r')\n",
    "##########\n",
    "\n",
    "data = my_file.read()\n",
    "\n",
    "##########\n",
    "my_file.close()"
   ]
  },
  {
   "cell_type": "code",
   "execution_count": 6,
   "metadata": {},
   "outputs": [
    {
     "name": "stdout",
     "output_type": "stream",
     "text": [
      "16\n",
      "Python is superb\n",
      "type -  <class 'str'>\n"
     ]
    }
   ],
   "source": [
    "# print data\n",
    "print(len(data))\n",
    "print(data)\n",
    "print(\"type - \", type(data))"
   ]
  },
  {
   "cell_type": "markdown",
   "metadata": {},
   "source": [
    "### Writing"
   ]
  },
  {
   "cell_type": "markdown",
   "metadata": {},
   "source": [
    "Let's write something in a new file. We use the mode `w` for writing into a file.\n",
    "\n",
    "* content to write → **Python is amazing for data science**\n",
    "* Writing happens from python code"
   ]
  },
  {
   "cell_type": "code",
   "execution_count": 7,
   "metadata": {},
   "outputs": [],
   "source": [
    "my_file = open(file='writing_sample.txt', mode='w')\n",
    "##########\n",
    "\n",
    "my_file.write('Python is amazing for data science')\n",
    "\n",
    "##########\n",
    "my_file.close()"
   ]
  },
  {
   "cell_type": "markdown",
   "metadata": {},
   "source": [
    "Let's read `writing_sample.txt` in python"
   ]
  },
  {
   "cell_type": "code",
   "execution_count": 8,
   "metadata": {},
   "outputs": [],
   "source": [
    "my_file = open(file='writing_sample.txt', mode='r')\n",
    "##########\n",
    "\n",
    "data = my_file.read()\n",
    "\n",
    "##########\n",
    "my_file.close()"
   ]
  },
  {
   "cell_type": "code",
   "execution_count": 9,
   "metadata": {},
   "outputs": [
    {
     "name": "stdout",
     "output_type": "stream",
     "text": [
      "34\n",
      "Python is amazing for data science\n"
     ]
    }
   ],
   "source": [
    "# print data\n",
    "print(len(data))\n",
    "print(data)"
   ]
  },
  {
   "cell_type": "markdown",
   "metadata": {},
   "source": [
    "### Appending"
   ]
  },
  {
   "cell_type": "code",
   "execution_count": 10,
   "metadata": {},
   "outputs": [
    {
     "name": "stdout",
     "output_type": "stream",
     "text": [
      "10\n",
      "20\n"
     ]
    }
   ],
   "source": [
    "a = 10\n",
    "b = 20\n",
    "print(a)\n",
    "print(b)"
   ]
  },
  {
   "cell_type": "code",
   "execution_count": 11,
   "metadata": {},
   "outputs": [
    {
     "name": "stdout",
     "output_type": "stream",
     "text": [
      "10 \n",
      " 20\n"
     ]
    }
   ],
   "source": [
    "print(a, \"\\n\", b)"
   ]
  },
  {
   "cell_type": "code",
   "execution_count": 12,
   "metadata": {},
   "outputs": [],
   "source": [
    "my_file = open(file='append_sample.txt', mode='a')\n",
    "##########\n",
    "\n",
    "my_file.write(\" Simple is better than complex\")\n",
    "my_file.write(\"\\nComplex is better than complicated\")\n",
    "\n",
    "##########\n",
    "my_file.close()"
   ]
  },
  {
   "cell_type": "markdown",
   "metadata": {},
   "source": [
    "* When used `a` - append mode, make sure to provide `\\n` to make the data written in next line, otherwise it will consider to continue writing in the same line.\n",
    "\n",
    "* Every time we open a file, we have to make sure it is closed as well. We do this manually and sometimes we may forget to close the file which is the most essential thing not to forget. Is there any alternative??\n",
    "\n",
    "* If used `with` statement, we need not close the file manually. It will automatically close the file when the entire process is finished."
   ]
  },
  {
   "cell_type": "markdown",
   "metadata": {},
   "source": [
    "### Example of using `with`"
   ]
  },
  {
   "cell_type": "code",
   "execution_count": 13,
   "metadata": {},
   "outputs": [
    {
     "name": "stdout",
     "output_type": "stream",
     "text": [
      "python is amazing for data science\n"
     ]
    }
   ],
   "source": [
    "with open(file='writing_sample.txt', mode='r') as my_file:\n",
    "    data = my_file.read()\n",
    "    dl = data.lower()\n",
    "\n",
    "print(dl)"
   ]
  },
  {
   "cell_type": "code",
   "execution_count": 14,
   "metadata": {},
   "outputs": [
    {
     "name": "stdout",
     "output_type": "stream",
     "text": [
      "34\n",
      "Python is amazing for data science\n"
     ]
    }
   ],
   "source": [
    "# print data\n",
    "print(len(data))\n",
    "print(data)"
   ]
  },
  {
   "cell_type": "markdown",
   "metadata": {},
   "source": [
    "We can apply the same modes like `a`, `w`, `r` and so on."
   ]
  },
  {
   "cell_type": "markdown",
   "metadata": {},
   "source": [
    "### But, what about `readlines()` function?"
   ]
  },
  {
   "cell_type": "code",
   "execution_count": 15,
   "metadata": {},
   "outputs": [],
   "source": [
    "with open(file='sheep_rhyme.txt', mode='r') as sheep:\n",
    "    poem = sheep.readlines()"
   ]
  },
  {
   "cell_type": "code",
   "execution_count": 16,
   "metadata": {},
   "outputs": [
    {
     "data": {
      "text/plain": [
       "['Baa, baa, black sheep,\\n',\n",
       " 'Have you any wool?\\n',\n",
       " 'Yes sir, yes sir,\\n',\n",
       " 'Three bags full.\\n',\n",
       " 'One for the master,\\n',\n",
       " 'One for the dame,\\n',\n",
       " 'One for the little boy\\n',\n",
       " 'Who lives down the lane.\\n',\n",
       " 'Baa, baa, white sheep,\\n',\n",
       " 'Have you any wool?\\n',\n",
       " 'Yes sir, yes sir,\\n',\n",
       " 'Three bags full.\\n',\n",
       " 'One for the master,\\n',\n",
       " 'One for the dame,\\n',\n",
       " 'And one for the little Girl\\n',\n",
       " 'Who lives down the lane.\\n',\n",
       " 'Baa, baa, brown sheep,\\n',\n",
       " 'Have you any wool?\\n',\n",
       " 'Yes sir, yes sir,\\n',\n",
       " 'Three bags full.\\n',\n",
       " 'One for the master,\\n',\n",
       " 'One for the dame,\\n',\n",
       " 'And one for the Old Man\\n',\n",
       " 'Who lives down the lane.']"
      ]
     },
     "execution_count": 16,
     "metadata": {},
     "output_type": "execute_result"
    }
   ],
   "source": [
    "poem"
   ]
  },
  {
   "cell_type": "markdown",
   "metadata": {},
   "source": [
    "### Alternative - `.split()`"
   ]
  },
  {
   "cell_type": "code",
   "execution_count": 17,
   "metadata": {},
   "outputs": [],
   "source": [
    "with open(file='sheep_rhyme.txt', mode='r') as sheep:\n",
    "    p_ = sheep.read()"
   ]
  },
  {
   "cell_type": "code",
   "execution_count": 18,
   "metadata": {},
   "outputs": [
    {
     "data": {
      "text/plain": [
       "'Baa, baa, black sheep,\\nHave you any wool?\\nYes sir, yes sir,\\nThree bags full.\\nOne for the master,\\nOne for the dame,\\nOne for the little boy\\nWho lives down the lane.\\nBaa, baa, white sheep,\\nHave you any wool?\\nYes sir, yes sir,\\nThree bags full.\\nOne for the master,\\nOne for the dame,\\nAnd one for the little Girl\\nWho lives down the lane.\\nBaa, baa, brown sheep,\\nHave you any wool?\\nYes sir, yes sir,\\nThree bags full.\\nOne for the master,\\nOne for the dame,\\nAnd one for the Old Man\\nWho lives down the lane.'"
      ]
     },
     "execution_count": 18,
     "metadata": {},
     "output_type": "execute_result"
    }
   ],
   "source": [
    "p_"
   ]
  },
  {
   "cell_type": "code",
   "execution_count": 19,
   "metadata": {},
   "outputs": [
    {
     "data": {
      "text/plain": [
       "['Baa, baa, black sheep,',\n",
       " 'Have you any wool?',\n",
       " 'Yes sir, yes sir,',\n",
       " 'Three bags full.',\n",
       " 'One for the master,',\n",
       " 'One for the dame,',\n",
       " 'One for the little boy',\n",
       " 'Who lives down the lane.',\n",
       " 'Baa, baa, white sheep,',\n",
       " 'Have you any wool?',\n",
       " 'Yes sir, yes sir,',\n",
       " 'Three bags full.',\n",
       " 'One for the master,',\n",
       " 'One for the dame,',\n",
       " 'And one for the little Girl',\n",
       " 'Who lives down the lane.',\n",
       " 'Baa, baa, brown sheep,',\n",
       " 'Have you any wool?',\n",
       " 'Yes sir, yes sir,',\n",
       " 'Three bags full.',\n",
       " 'One for the master,',\n",
       " 'One for the dame,',\n",
       " 'And one for the Old Man',\n",
       " 'Who lives down the lane.']"
      ]
     },
     "execution_count": 19,
     "metadata": {},
     "output_type": "execute_result"
    }
   ],
   "source": [
    "p_.split('\\n')"
   ]
  },
  {
   "cell_type": "code",
   "execution_count": 20,
   "metadata": {},
   "outputs": [
    {
     "data": {
      "text/plain": [
       "list"
      ]
     },
     "execution_count": 20,
     "metadata": {},
     "output_type": "execute_result"
    }
   ],
   "source": [
    "type(poem)"
   ]
  },
  {
   "cell_type": "markdown",
   "metadata": {},
   "source": [
    "### Alice and the wonderland"
   ]
  },
  {
   "cell_type": "markdown",
   "metadata": {},
   "source": [
    "<img src=\"https://raw.githubusercontent.com/msameeruddin/Python-Programming/main/8_Python_File-handling/file_read_plot.png\">\n",
    "\n",
    "**Image by author**"
   ]
  },
  {
   "cell_type": "code",
   "execution_count": 21,
   "metadata": {},
   "outputs": [],
   "source": [
    "with open(file='alice_wonderland.txt', mode='r') as alice:\n",
    "    alice_story = alice.readlines()"
   ]
  },
  {
   "cell_type": "code",
   "execution_count": 22,
   "metadata": {
    "scrolled": false
   },
   "outputs": [
    {
     "data": {
      "text/plain": [
       "[\"Alice's Adventures in Wonderland\\n\",\n",
       " '\\n',\n",
       " \"                ALICE'S ADVENTURES IN WONDERLAND\\n\",\n",
       " '\\n',\n",
       " '                          Lewis Carroll\\n',\n",
       " '\\n',\n",
       " '               THE MILLENNIUM FULCRUM EDITION 3.0\\n',\n",
       " '\\n',\n",
       " '\\n',\n",
       " '\\n']"
      ]
     },
     "execution_count": 22,
     "metadata": {},
     "output_type": "execute_result"
    }
   ],
   "source": [
    "# display first 10 items\n",
    "alice_story[:10]"
   ]
  },
  {
   "cell_type": "code",
   "execution_count": 23,
   "metadata": {},
   "outputs": [
    {
     "data": {
      "text/plain": [
       "3600"
      ]
     },
     "execution_count": 23,
     "metadata": {},
     "output_type": "execute_result"
    }
   ],
   "source": [
    "# check length\n",
    "len(alice_story)"
   ]
  },
  {
   "cell_type": "markdown",
   "metadata": {},
   "source": [
    "### Data cleaning"
   ]
  },
  {
   "cell_type": "code",
   "execution_count": 24,
   "metadata": {},
   "outputs": [],
   "source": [
    "# remove \"\\n\" (single item)\n",
    "non_slashes = []\n",
    "for each_line in alice_story:\n",
    "    if (each_line != '\\n'):\n",
    "        non_slashes.append(each_line)"
   ]
  },
  {
   "cell_type": "code",
   "execution_count": 25,
   "metadata": {},
   "outputs": [
    {
     "data": {
      "text/plain": [
       "[\"Alice's Adventures in Wonderland\\n\",\n",
       " \"                ALICE'S ADVENTURES IN WONDERLAND\\n\",\n",
       " '                          Lewis Carroll\\n',\n",
       " '               THE MILLENNIUM FULCRUM EDITION 3.0\\n',\n",
       " '                            CHAPTER I\\n',\n",
       " '                      Down the Rabbit-Hole\\n',\n",
       " '  Alice was beginning to get very tired of sitting by her sister\\n',\n",
       " 'on the bank, and of having nothing to do:  once or twice she had\\n',\n",
       " 'peeped into the book her sister was reading, but it had no\\n',\n",
       " \"pictures or conversations in it, `and what is the use of a book,'\\n\"]"
      ]
     },
     "execution_count": 25,
     "metadata": {},
     "output_type": "execute_result"
    }
   ],
   "source": [
    "# display first 10 items\n",
    "non_slashes[:10]"
   ]
  },
  {
   "cell_type": "code",
   "execution_count": 26,
   "metadata": {},
   "outputs": [
    {
     "data": {
      "text/plain": [
       "2726"
      ]
     },
     "execution_count": 26,
     "metadata": {},
     "output_type": "execute_result"
    }
   ],
   "source": [
    "# check length\n",
    "len(non_slashes)"
   ]
  },
  {
   "cell_type": "code",
   "execution_count": 27,
   "metadata": {},
   "outputs": [],
   "source": [
    "# remove \"\\n\" from each item at the end\n",
    "# remove extra spaces from each item (at start and at end)\n",
    "# convert each item into lower case\n",
    "\n",
    "non_slash_new_lines = []\n",
    "for each_line in non_slashes:\n",
    "    new_each_line = each_line.lower().replace('\\n', '').strip()\n",
    "    non_slash_new_lines.append(new_each_line)"
   ]
  },
  {
   "cell_type": "code",
   "execution_count": 28,
   "metadata": {},
   "outputs": [
    {
     "data": {
      "text/plain": [
       "[\"alice's adventures in wonderland\",\n",
       " \"alice's adventures in wonderland\",\n",
       " 'lewis carroll',\n",
       " 'the millennium fulcrum edition 3.0',\n",
       " 'chapter i',\n",
       " 'down the rabbit-hole',\n",
       " 'alice was beginning to get very tired of sitting by her sister',\n",
       " 'on the bank, and of having nothing to do:  once or twice she had',\n",
       " 'peeped into the book her sister was reading, but it had no',\n",
       " \"pictures or conversations in it, `and what is the use of a book,'\"]"
      ]
     },
     "execution_count": 28,
     "metadata": {},
     "output_type": "execute_result"
    }
   ],
   "source": [
    "# display first 10 items\n",
    "non_slash_new_lines[:10]"
   ]
  },
  {
   "cell_type": "code",
   "execution_count": 29,
   "metadata": {},
   "outputs": [
    {
     "data": {
      "text/plain": [
       "2726"
      ]
     },
     "execution_count": 29,
     "metadata": {},
     "output_type": "execute_result"
    }
   ],
   "source": [
    "# check length\n",
    "len(non_slash_new_lines)"
   ]
  },
  {
   "cell_type": "markdown",
   "metadata": {},
   "source": [
    "### Data formatting"
   ]
  },
  {
   "cell_type": "markdown",
   "metadata": {},
   "source": [
    "<img src=\"https://raw.githubusercontent.com/msameeruddin/Python-Programming/main/8_Python_File-handling/enumerate_example.png\">\n",
    "\n",
    "**Image by author**"
   ]
  },
  {
   "cell_type": "code",
   "execution_count": 30,
   "metadata": {},
   "outputs": [
    {
     "name": "stdout",
     "output_type": "stream",
     "text": [
      "{0: 's', 1: 'd', 2: 'f'}\n"
     ]
    },
    {
     "data": {
      "text/plain": [
       "dict_items([(0, 's'), (1, 'd'), (2, 'f')])"
      ]
     },
     "execution_count": 30,
     "metadata": {},
     "output_type": "execute_result"
    }
   ],
   "source": [
    "# show enumerate example with list\n",
    "s = [\"s\", \"d\", \"f\"]\n",
    "f = dict(enumerate(s))\n",
    "print(f)\n",
    "f.items()"
   ]
  },
  {
   "cell_type": "code",
   "execution_count": 31,
   "metadata": {},
   "outputs": [],
   "source": [
    "# make a dictionary with enumerate and count the word\n",
    "line_word_count = {}\n",
    "my_word = 'for'\n",
    "my_word = ' ' + my_word + ' '\n",
    "\n",
    "for (ind, line) in enumerate(non_slash_new_lines):\n",
    "    line_word_count[ind + 1] = line.count(my_word)"
   ]
  },
  {
   "cell_type": "code",
   "execution_count": 32,
   "metadata": {},
   "outputs": [],
   "source": [
    "# line_word_count"
   ]
  },
  {
   "cell_type": "code",
   "execution_count": 33,
   "metadata": {},
   "outputs": [
    {
     "data": {
      "text/plain": [
       "2726"
      ]
     },
     "execution_count": 33,
     "metadata": {},
     "output_type": "execute_result"
    }
   ],
   "source": [
    "# check length\n",
    "len(line_word_count)"
   ]
  },
  {
   "cell_type": "code",
   "execution_count": 34,
   "metadata": {},
   "outputs": [
    {
     "data": {
      "image/png": "[encoded data removed]",
      "text/plain": [
       "<Figure size 432x288 with 1 Axes>"
      ]
     },
     "metadata": {
      "needs_background": "light"
     },
     "output_type": "display_data"
    }
   ],
   "source": [
    "# plot the result for the first 100 items\n",
    "# py -m pip install matplotlib --user\n",
    "\n",
    "from matplotlib import pyplot as plt\n",
    "\n",
    "X = list(line_word_count.keys())\n",
    "Y = list(line_word_count.values())\n",
    "\n",
    "x_ = X[:200]\n",
    "y_ = Y[:200]\n",
    "\n",
    "plt.plot(x_, y_)\n",
    "plt.show()"
   ]
  },
  {
   "cell_type": "markdown",
   "metadata": {},
   "source": [
    "### **Customization**"
   ]
  },
  {
   "cell_type": "code",
   "execution_count": 35,
   "metadata": {},
   "outputs": [],
   "source": [
    "def word_plot_from_txt(filename_, word_):\n",
    "    \"\"\"\n",
    "    Plot the word from the text file which appears in every possible line\n",
    "    :param str filename_: The name of the file saved in the folder (.txt)\n",
    "    :param str word_: The actual word that appears in each line\n",
    "    :return bool None:\n",
    "    \"\"\" \n",
    "    word_ = ' ' + word_ + ' '\n",
    "    \n",
    "    ## read the file saved in the folder\n",
    "    with open(file=filename_, mode='r') as txt:\n",
    "        story_ = txt.readlines()\n",
    "    \n",
    "    ########### ~ data cleaning ~ #############\n",
    "    \n",
    "    ## remove extra '\\n' as a line\n",
    "    non_new_line_ = []\n",
    "    for each_line in story_:\n",
    "        if each_line != '\\n':\n",
    "            non_new_line_.append(each_line)\n",
    "    \n",
    "    ## remove '\\n' from a line\n",
    "    new_data_ = []\n",
    "    for each_line in non_new_line_:\n",
    "        each_data = each_line.strip().lower().replace('\\n', '')\n",
    "        new_data_.append(each_data)\n",
    "    \n",
    "    ## count the required word_ from each line\n",
    "    story_dict_ = {}\n",
    "    for index_, line_ in dict(enumerate(new_data_)).items():\n",
    "        story_dict_[index_] = line_.count(word_)\n",
    "    \n",
    "    ############ ~ data plotting ~ ############\n",
    "    \n",
    "    import random\n",
    "    from matplotlib import pyplot as plt\n",
    "    from matplotlib import style\n",
    "    style.use('seaborn')\n",
    "        \n",
    "    X = list(story_dict_.keys())\n",
    "    Y = list(story_dict_.values())\n",
    "    \n",
    "    num = random.randint(100, 300)\n",
    "    print(\"Taking the first {} values from X and Y\".format(num))\n",
    "    x_ = X[:num]\n",
    "    y_ = Y[:num]\n",
    "    \n",
    "    ## figure size\n",
    "    plt.figure(figsize=(15, 8))\n",
    "    ## line plot\n",
    "    plt.plot(x_, y_, color='green', lw=2, label='line plot')\n",
    "    ## scatter plot\n",
    "    plt.scatter(x_, y_, color='red', label='scatter markers')\n",
    "    ## x-axis name\n",
    "    plt.xlabel(\"Lines\")\n",
    "    ## y-axis name\n",
    "    plt.ylabel(word_ + \" - count\")\n",
    "    ## title of the plot\n",
    "    plt.title(\"The Word Count Plot from the File\")\n",
    "    ## legend of the plot\n",
    "    plt.legend(loc='best')\n",
    "    ## displaying the plot\n",
    "    plt.show()\n",
    "    \n",
    "    return True"
   ]
  },
  {
   "cell_type": "markdown",
   "metadata": {},
   "source": [
    "### **Function call**"
   ]
  },
  {
   "cell_type": "code",
   "execution_count": 36,
   "metadata": {
    "scrolled": false
   },
   "outputs": [
    {
     "name": "stdout",
     "output_type": "stream",
     "text": [
      "Taking the first 235 values from X and Y\n"
     ]
    },
    {
     "data": {
      "image/png": "[encoded data removed]",
      "text/plain": [
       "<Figure size 1080x576 with 1 Axes>"
      ]
     },
     "metadata": {},
     "output_type": "display_data"
    },
    {
     "data": {
      "text/plain": [
       "True"
      ]
     },
     "execution_count": 36,
     "metadata": {},
     "output_type": "execute_result"
    }
   ],
   "source": [
    "word_plot_from_txt(\n",
    "    filename_='alice_wonderland.txt', \n",
    "    word_='a'\n",
    ")"
   ]
  },
  {
   "cell_type": "markdown",
   "metadata": {},
   "source": [
    "### How to debug errors?"
   ]
  },
  {
   "cell_type": "markdown",
   "metadata": {},
   "source": [
    "* Know about the errors\n",
    "* Learn what errors mean\n",
    "* Errors are the new begining to learn programming\n",
    "\n",
    "1. Do not google the error exactly as it is. But know where it occurred, why it occurred and the reason behind its occurrence.\n",
    "\n",
    "2. Then google about the exact reason how to tackle the same."
   ]
  },
  {
   "cell_type": "markdown",
   "metadata": {},
   "source": [
    "### Things that can be developed"
   ]
  },
  {
   "cell_type": "markdown",
   "metadata": {},
   "source": [
    "* **Web Development**\n",
    "    - Flask\n",
    "    - Dash\n",
    "    - Django\n",
    "\n",
    "\n",
    "* **Game Development**\n",
    "    - Pygame\n",
    "    - OpenGL\n",
    "\n",
    "\n",
    "* **Numeric & Scientific Computation**\n",
    "    - Numpy\n",
    "    - Scipy\n",
    "    - OpenCV\n",
    "    - Pandas\n",
    "\n",
    "\n",
    "* **Data Analysis**\n",
    "    - Pandas\n",
    "    - Statsmodel\n",
    "    - Statistics\n",
    "\n",
    "\n",
    "* **Data Visualization**\n",
    "    - Matplotlib\n",
    "    - Plotly\n",
    "    - Bokeh\n",
    "\n",
    "\n",
    "* **Machine Learning and Artificial Intelligence (Research & Development)**\n",
    "    - Scikit-learn\n",
    "    - Tensorflow\n",
    "    - Pytorch\n",
    "    - Keras\n",
    "    - Scikit-image\n",
    "\n",
    "\n",
    "* **Mobile App Development**\n",
    "    - Kivy\n",
    "\n",
    "\n",
    "* **Desktop Application**\n",
    "    - Tkinter\n",
    "\n",
    "\n",
    "* **Web Scraping**\n",
    "    - BeautifulSoup\n",
    "    - Selenium (Automation)\n",
    "    - Scrapy\n",
    "\n",
    "The list goes on ...\n",
    "\n",
    "<br>\n"
   ]
  },
  {
   "cell_type": "markdown",
   "metadata": {},
   "source": [
    "<h3><strong><center>\" Always try to learn something new everyday \"</center></strong></h3>\n",
    "<right>- Lex Fridman</right>"
   ]
  }
 ],
 "metadata": {
  "kernelspec": {
   "display_name": "Python 3",
   "language": "python",
   "name": "python3"
  },
  "language_info": {
   "codemirror_mode": {
    "name": "ipython",
    "version": 3
   },
   "file_extension": ".py",
   "mimetype": "text/x-python",
   "name": "python",
   "nbconvert_exporter": "python",
   "pygments_lexer": "ipython3",
   "version": "3.8.4"
  }
 },
 "nbformat": 4,
 "nbformat_minor": 2
}
