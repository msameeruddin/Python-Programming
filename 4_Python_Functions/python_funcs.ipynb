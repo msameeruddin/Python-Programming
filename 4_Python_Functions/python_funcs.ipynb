{
 "cells": [
  {
   "cell_type": "markdown",
   "metadata": {},
   "source": [
    "<center><h1>Functions and Modularity</h1></center>"
   ]
  },
  {
   "cell_type": "markdown",
   "metadata": {},
   "source": [
    "**Computer Science Definition**\n",
    "\n",
    "* A function is a block of `organized`, `reusable` code that is used to perform a `single` related action. \n",
    "* Functions provide better `modularity` for your application at a high degree of code reusing."
   ]
  },
  {
   "cell_type": "markdown",
   "metadata": {},
   "source": [
    "### Function Flow Diagram"
   ]
  },
  {
   "cell_type": "markdown",
   "metadata": {},
   "source": [
    "<img src=\"https://raw.githubusercontent.com/msameeruddin/Python-Programming/main/4_Python_Functions/func.png\">\n",
    "\n",
    "**Image by author**"
   ]
  },
  {
   "cell_type": "markdown",
   "metadata": {},
   "source": [
    "### Function Structure"
   ]
  },
  {
   "cell_type": "markdown",
   "metadata": {},
   "source": [
    "```python\n",
    "def some_action(*args, **kwargs):\n",
    "    \"\"\"\n",
    "    docstring of a function\n",
    "    \"\"\"\n",
    "    \n",
    "    # write the function flow\n",
    "    \n",
    "    return None\n",
    "```\n",
    "\n",
    "* args $\\rightarrow$ Arguments (basically input parameters)\n",
    "* kwargs $\\rightarrow$ Keyword arguments\n",
    "* ```python\n",
    "outcome = some_action(*args, **kwargs)\n",
    "```"
   ]
  },
  {
   "cell_type": "markdown",
   "metadata": {},
   "source": [
    "### Types of Functions"
   ]
  },
  {
   "cell_type": "markdown",
   "metadata": {},
   "source": [
    "* Parameterized function structure\n",
    "\n",
    "```python\n",
    "def parameter_func(param1, param2, param3):\n",
    "    # do something\n",
    "    return None\n",
    "```\n",
    "\n",
    "* Non-parameterized function structure\n",
    "\n",
    "```python\n",
    "def non_parameter_func():\n",
    "    # do something\n",
    "    return None\n",
    "```\n",
    "\n",
    "**Note**: It is always good to have params' in function that signifies input receival and output returning."
   ]
  },
  {
   "cell_type": "markdown",
   "metadata": {},
   "source": [
    "<center><h1>Different Practises and Uses of Functions</h1></center>"
   ]
  },
  {
   "cell_type": "markdown",
   "metadata": {},
   "source": [
    "Suppose you are given a set of numbers and your task is to identify which number is odd and which is not (even).\n",
    "\n",
    "The numbers are from 1 to 100.\n",
    "\n",
    "**3 things to remember**\n",
    "\n",
    "* start value\n",
    "* end value\n",
    "* even and odd logic"
   ]
  },
  {
   "cell_type": "markdown",
   "metadata": {},
   "source": [
    "### Newbie Programmer"
   ]
  },
  {
   "cell_type": "markdown",
   "metadata": {},
   "source": [
    "He / She will check all the 100 numbers individually with 100 if conditions and make the code messy.\n",
    "\n",
    "```python\n",
    "num = 1\n",
    "if num % 2 == 0:\n",
    "    print(\"even\")\n",
    "else:\n",
    "    print(\"odd\")\n",
    "#################\n",
    "num = 2\n",
    "if num % 2 == 0:\n",
    "    print(\"even\")\n",
    "else:\n",
    "    print(\"odd\")\n",
    "##################\n",
    "num = 3\n",
    "if num % 2 == 0:\n",
    "    print(\"even\")\n",
    "else:\n",
    "    print(\"odd\")\n",
    "##################\n",
    "...\n",
    "##################\n",
    "num = 100\n",
    "if num % 2 == 0:\n",
    "    print(\"even\")\n",
    "else:\n",
    "    print(\"odd\")\n",
    "```"
   ]
  },
  {
   "cell_type": "markdown",
   "metadata": {},
   "source": [
    "### Intermediate Programmer"
   ]
  },
  {
   "cell_type": "markdown",
   "metadata": {},
   "source": [
    "He / She will define a function to implement the task and repeat the function by `calling` it 100 times.\n",
    "\n",
    "```python\n",
    "# function definition\n",
    "def check_odd_even(num):\n",
    "    if num % 2 == 0:\n",
    "        return True\n",
    "    else:\n",
    "        return False\n",
    "#########################\n",
    "\n",
    "num = 1\n",
    "num_type = check_odd_even(num)\n",
    "print(num_type) # False\n",
    "###############\n",
    "num = 2\n",
    "num_type = check_odd_even(num)\n",
    "print(num_type) # True\n",
    "###############\n",
    "num = 3\n",
    "num_type = check_odd_even(num)\n",
    "print(num_type) # False\n",
    "###############\n",
    "...\n",
    "###############\n",
    "num = 100\n",
    "num_type = check_odd_even(num)\n",
    "print(num_type) # True\n",
    "```"
   ]
  },
  {
   "cell_type": "markdown",
   "metadata": {},
   "source": [
    "### Pro Programmer (like you)"
   ]
  },
  {
   "cell_type": "markdown",
   "metadata": {},
   "source": [
    "He / She will make a dynamic function. Even when task increases to check from 1 to 1000, he / she will be able to do it easily.\n",
    "\n",
    "```python\n",
    "def check_odd_even(start, end):\n",
    "    \"\"\"\n",
    "    Checks if a number is even or odd within the given range\n",
    "    :param int start: Integer number\n",
    "    :param int end: Integer number\n",
    "    :return dict categorised_numbers: Dictionary of odd_numbers and even_numbers\n",
    "    \"\"\"\n",
    "    even_numbers = []\n",
    "    odd_numbers = []\n",
    "    \n",
    "    for num in range(start, end + 1):\n",
    "        if num % 2 == 0:\n",
    "            even_numbers.append(num)\n",
    "        else:\n",
    "            odd_numbers.append(num)\n",
    "    \n",
    "    categorised_numbers = {\n",
    "        'odd_numbers' : odd_numbers,\n",
    "        'even_numbers' : even_numbers\n",
    "    }\n",
    "    return categorised_numbers\n",
    "```"
   ]
  },
  {
   "cell_type": "markdown",
   "metadata": {},
   "source": [
    "### Task Accomplished"
   ]
  },
  {
   "cell_type": "code",
   "execution_count": 1,
   "metadata": {},
   "outputs": [],
   "source": [
    "def check_odd_even(start, end):\n",
    "    \"\"\"\n",
    "    Function docstring\n",
    "    ------------------\n",
    "    Checks if a number is even or odd within the given range\n",
    "    :param int start: Integer number\n",
    "    :param int end: Integer number\n",
    "    :return dict categorised_numbers: Dictionary of odd_numbers and even_numbers\n",
    "    \"\"\"\n",
    "    even_numbers = []\n",
    "    odd_numbers = []\n",
    "    provided_numbers = list(range(start, end + 1))\n",
    "\n",
    "    for num in provided_numbers:\n",
    "        if num % 2 == 0:\n",
    "            even_numbers.append(num)\n",
    "        else:\n",
    "            odd_numbers.append(num)\n",
    "\n",
    "    categorised_numbers = {\n",
    "        'odd_numbers' : odd_numbers,\n",
    "        'even_numbers' : even_numbers\n",
    "    }\n",
    "    return categorised_numbers"
   ]
  },
  {
   "cell_type": "markdown",
   "metadata": {},
   "source": [
    "### Function Calling"
   ]
  },
  {
   "cell_type": "code",
   "execution_count": 2,
   "metadata": {
    "scrolled": false
   },
   "outputs": [
    {
     "name": "stdout",
     "output_type": "stream",
     "text": [
      "{'odd_numbers': [1, 3, 5, 7, 9], 'even_numbers': [2, 4, 6, 8, 10]}\n"
     ]
    }
   ],
   "source": [
    "output = check_odd_even(start=1, end=10)\n",
    "print(output)"
   ]
  },
  {
   "cell_type": "code",
   "execution_count": 3,
   "metadata": {},
   "outputs": [],
   "source": [
    "# output = check_odd_even(start=1, end=100)\n",
    "# print(output)"
   ]
  },
  {
   "cell_type": "code",
   "execution_count": 4,
   "metadata": {},
   "outputs": [],
   "source": [
    "output = check_odd_even(start=-10, end=20)"
   ]
  },
  {
   "cell_type": "code",
   "execution_count": 5,
   "metadata": {},
   "outputs": [
    {
     "name": "stdout",
     "output_type": "stream",
     "text": [
      "{'odd_numbers': [-9, -7, -5, -3, -1, 1, 3, 5, 7, 9, 11, 13, 15, 17, 19], 'even_numbers': [-10, -8, -6, -4, -2, 0, 2, 4, 6, 8, 10, 12, 14, 16, 18, 20]}\n"
     ]
    }
   ],
   "source": [
    "print(output)"
   ]
  },
  {
   "cell_type": "markdown",
   "metadata": {},
   "source": [
    "### `help(<any_function>)`"
   ]
  },
  {
   "cell_type": "code",
   "execution_count": 6,
   "metadata": {
    "scrolled": true
   },
   "outputs": [
    {
     "name": "stdout",
     "output_type": "stream",
     "text": [
      "Help on function check_odd_even in module __main__:\n",
      "\n",
      "check_odd_even(start, end)\n",
      "    Function docstring\n",
      "    ------------------\n",
      "    Checks if a number is even or odd within the given range\n",
      "    :param int start: Integer number\n",
      "    :param int end: Integer number\n",
      "    :return dict categorised_numbers: Dictionary of odd_numbers and even_numbers\n",
      "\n"
     ]
    }
   ],
   "source": [
    "help(check_odd_even)"
   ]
  },
  {
   "cell_type": "markdown",
   "metadata": {},
   "source": [
    "### `type(<any_function>)`"
   ]
  },
  {
   "cell_type": "code",
   "execution_count": 7,
   "metadata": {
    "scrolled": false
   },
   "outputs": [
    {
     "data": {
      "text/plain": [
       "function"
      ]
     },
     "execution_count": 7,
     "metadata": {},
     "output_type": "execute_result"
    }
   ],
   "source": [
    "type(check_odd_even)"
   ]
  },
  {
   "cell_type": "code",
   "execution_count": 8,
   "metadata": {
    "scrolled": true
   },
   "outputs": [
    {
     "name": "stdout",
     "output_type": "stream",
     "text": [
      "<class 'dict'>\n"
     ]
    }
   ],
   "source": [
    "out = check_odd_even(1, 10)\n",
    "print(type(out))"
   ]
  },
  {
   "cell_type": "code",
   "execution_count": 9,
   "metadata": {
    "scrolled": true
   },
   "outputs": [
    {
     "name": "stdout",
     "output_type": "stream",
     "text": [
      "{'odd_numbers': [1, 3, 5], 'even_numbers': [2, 4, 6]}\n",
      "{'odd_numbers': [1, 3, 5, 7, 9], 'even_numbers': [2, 4, 6, 8, 10]}\n"
     ]
    }
   ],
   "source": [
    "o1 = check_odd_even(1, 6)\n",
    "print(o1)\n",
    "\n",
    "o2 = check_odd_even(1, 10)\n",
    "print(o2)"
   ]
  },
  {
   "cell_type": "markdown",
   "metadata": {},
   "source": [
    "### Pros of Using Functions"
   ]
  },
  {
   "cell_type": "markdown",
   "metadata": {},
   "source": [
    "* Increases readability of a program\n",
    "* Organized code is always better than messy code\n",
    "* Easy to understand and makes it reusable"
   ]
  },
  {
   "cell_type": "markdown",
   "metadata": {},
   "source": [
    "### Function Chaining"
   ]
  },
  {
   "cell_type": "code",
   "execution_count": 10,
   "metadata": {},
   "outputs": [],
   "source": [
    "# show example\n",
    "\n",
    "def which_greater(num1, num2):\n",
    "    if (num1 > num2):\n",
    "        greater_num = num1\n",
    "    else:\n",
    "        greater_num = num2\n",
    "    return greater_num\n",
    "\n",
    "def which_greatest(num1, num2, num3):\n",
    "    greater_num = which_greater(num1=num1, num2=num2)\n",
    "    greatest_num = which_greater(num1=greater_num, num2=num3)\n",
    "    # foo = which_greater(which_greater(num1, num2), num3)\n",
    "    return greatest_num\n",
    "\n",
    "# print(which_greatest(num1=1, num2=2, num3=3))\n",
    "\n",
    "def calculate_greatest():\n",
    "    n_list = []\n",
    "    for i in range(3):\n",
    "        n = int(input(\"Enter num - {} : \".format(i + 1)))\n",
    "        n_list.append(n)\n",
    "    \n",
    "    print(\"Given numbers : \", n_list)\n",
    "    greatest = which_greatest(num1=n_list[0], num2=n_list[1], num3=n_list[2])\n",
    "    \n",
    "    return \"The greatest number is \" + str(greatest)"
   ]
  },
  {
   "cell_type": "code",
   "execution_count": 11,
   "metadata": {},
   "outputs": [
    {
     "name": "stdout",
     "output_type": "stream",
     "text": [
      "Enter num - 1 : 12\n",
      "Enter num - 2 : 32\n",
      "Enter num - 3 : 12\n",
      "Given numbers :  [12, 32, 12]\n"
     ]
    },
    {
     "data": {
      "text/plain": [
       "'The greatest number is 32'"
      ]
     },
     "execution_count": 11,
     "metadata": {},
     "output_type": "execute_result"
    }
   ],
   "source": [
    "calculate_greatest()"
   ]
  },
  {
   "cell_type": "markdown",
   "metadata": {},
   "source": [
    "**Note**: A function can use `n` number of other functions within. It can also be imported from different files to obtain modularity."
   ]
  },
  {
   "cell_type": "markdown",
   "metadata": {},
   "source": [
    "<center><h1>Modularity in Python</h1></center>"
   ]
  },
  {
   "cell_type": "markdown",
   "metadata": {},
   "source": [
    "**Modularity** simply encourages the separation of the `functionality` in a program into `distinct` and `independent units` such that `every unit` has everything required to execute.\n",
    "\n",
    "* Code reusability\n",
    "* Simplicity\n",
    "* Organized code structure\n",
    "* Easy to debug errors"
   ]
  },
  {
   "cell_type": "markdown",
   "metadata": {},
   "source": [
    "### Modularity flow"
   ]
  },
  {
   "cell_type": "markdown",
   "metadata": {},
   "source": [
    "<img src=\"https://raw.githubusercontent.com/msameeruddin/Python-Programming/main/4_Python_Functions/modularity.png\">\n",
    "\n",
    "**Image by author**"
   ]
  },
  {
   "cell_type": "markdown",
   "metadata": {},
   "source": [
    "### Steps to Implement Modularity"
   ]
  },
  {
   "cell_type": "markdown",
   "metadata": {},
   "source": [
    "* Create two files\n",
    "    - basic_math.py\n",
    "    - operate.py\n",
    "* Write functions namely `add()`, `subtract()`, `product()`, `divide()` in `basic_math.py`.\n",
    "* Import the functions of `basic_math.py` module in `operate.py` and reuse it.\n",
    "* ```python\n",
    "from basic_math import <function_name>\n",
    "```"
   ]
  },
  {
   "cell_type": "markdown",
   "metadata": {},
   "source": [
    "<h1><center>List of Built-In Modules</center></h1>"
   ]
  },
  {
   "cell_type": "markdown",
   "metadata": {},
   "source": [
    "* os\n",
    "* sys\n",
    "* math\n",
    "* random\n",
    "* time\n",
    "* collections\n",
    "* ...\n",
    "\n",
    "**syntax** - \n",
    "\n",
    "```python\n",
    "import <package_or_module_name>\n",
    "```"
   ]
  },
  {
   "cell_type": "markdown",
   "metadata": {},
   "source": [
    "### `time` example"
   ]
  },
  {
   "cell_type": "code",
   "execution_count": 12,
   "metadata": {
    "scrolled": false
   },
   "outputs": [
    {
     "name": "stdout",
     "output_type": "stream",
     "text": [
      "Hi\n",
      "**\n",
      "HiHi\n",
      "****\n",
      "HiHiHi\n",
      "******\n",
      "HiHiHiHi\n",
      "********\n"
     ]
    }
   ],
   "source": [
    "import time\n",
    "\n",
    "for i in range(1, 5):\n",
    "    print(\"Hi\" * i)\n",
    "    print(\"*\" * 2*i)\n",
    "    time.sleep(3)"
   ]
  },
  {
   "cell_type": "code",
   "execution_count": 13,
   "metadata": {
    "scrolled": false
   },
   "outputs": [
    {
     "name": "stdout",
     "output_type": "stream",
     "text": [
      "1  --> iteration\n",
      "\t [0]\n",
      "######\n",
      "2  --> iteration\n",
      "\t [0, 1]\n",
      "######\n",
      "3  --> iteration\n",
      "\t [0, 1, 2]\n",
      "######\n",
      "4  --> iteration\n",
      "\t [0, 1, 2, 3]\n",
      "######\n",
      "5  --> iteration\n",
      "\t [0, 1, 2, 3, 4]\n",
      "######\n",
      "6  --> iteration\n",
      "\t [0, 1, 2, 3, 4, 5]\n",
      "######\n",
      "7  --> iteration\n",
      "\t [0, 1, 2, 3, 4, 5, 6]\n",
      "######\n",
      "8  --> iteration\n",
      "\t [0, 1, 2, 3, 4, 5, 6, 7]\n",
      "######\n",
      "9  --> iteration\n",
      "\t [0, 1, 2, 3, 4, 5, 6, 7, 8]\n",
      "######\n",
      "10  --> iteration\n",
      "\t [0, 1, 2, 3, 4, 5, 6, 7, 8, 9]\n",
      "######\n"
     ]
    }
   ],
   "source": [
    "import time\n",
    "\n",
    "s = []\n",
    "for i in range(10):\n",
    "    print(i+1 , \" --> iteration\")\n",
    "    s.append(i)\n",
    "    print(\"\\t\", s)\n",
    "    time.sleep(2)\n",
    "    print(\"######\")"
   ]
  },
  {
   "cell_type": "markdown",
   "metadata": {},
   "source": [
    "### `random` example"
   ]
  },
  {
   "cell_type": "code",
   "execution_count": 14,
   "metadata": {},
   "outputs": [],
   "source": [
    "# dir(random)"
   ]
  },
  {
   "cell_type": "code",
   "execution_count": 17,
   "metadata": {
    "scrolled": false
   },
   "outputs": [
    {
     "name": "stdout",
     "output_type": "stream",
     "text": [
      "computer selected -  r\n",
      "computer selected -  r\n",
      "computer selected -  r\n",
      "computer selected -  s\n",
      "computer selected -  s\n",
      "computer selected -  r\n",
      "computer selected -  s\n",
      "computer selected -  s\n",
      "computer selected -  p\n",
      "computer selected -  s\n"
     ]
    }
   ],
   "source": [
    "import random\n",
    "\n",
    "gaming_input = ['r', 'p', 's']\n",
    "for i in range(10):\n",
    "    computer_input = random.choice(gaming_input)\n",
    "    print(\"computer selected - \", computer_input)\n",
    "    time.sleep(2)"
   ]
  },
  {
   "cell_type": "markdown",
   "metadata": {},
   "source": [
    "### `collections` example"
   ]
  },
  {
   "cell_type": "code",
   "execution_count": 16,
   "metadata": {
    "scrolled": true
   },
   "outputs": [
    {
     "name": "stdout",
     "output_type": "stream",
     "text": [
      "Counter({'hello': 3, 'hi': 2, 'greetings': 1, 'India': 1})\n"
     ]
    }
   ],
   "source": [
    "import collections\n",
    "\n",
    "# print(dir(collections))\n",
    "\n",
    "list_value = [\"hello\", \"hi\", \"greetings\", \"India\", \"hello\", \"hello\", \"hi\"]\n",
    "\n",
    "# use Counter() function/method from collections\n",
    "c = collections.Counter(list_value)\n",
    "print(c)"
   ]
  },
  {
   "cell_type": "markdown",
   "metadata": {},
   "source": [
    "### What did we learn?"
   ]
  },
  {
   "cell_type": "markdown",
   "metadata": {},
   "source": [
    "* Function definition\n",
    "* Function types\n",
    "* Use of doc string\n",
    "* One liner if else statement\n",
    "* Complex functionality of a function calling another function and so on\n",
    "* Modularity in python (creating modules)\n",
    "* List of built-in modules"
   ]
  }
 ],
 "metadata": {
  "kernelspec": {
   "display_name": "Python 3",
   "language": "python",
   "name": "python3"
  },
  "language_info": {
   "codemirror_mode": {
    "name": "ipython",
    "version": 3
   },
   "file_extension": ".py",
   "mimetype": "text/x-python",
   "name": "python",
   "nbconvert_exporter": "python",
   "pygments_lexer": "ipython3",
   "version": "3.8.4"
  },
  "varInspector": {
   "cols": {
    "lenName": 16,
    "lenType": 16,
    "lenVar": 40
   },
   "kernels_config": {
    "python": {
     "delete_cmd_postfix": "",
     "delete_cmd_prefix": "del ",
     "library": "var_list.py",
     "varRefreshCmd": "print(var_dic_list())"
    },
    "r": {
     "delete_cmd_postfix": ") ",
     "delete_cmd_prefix": "rm(",
     "library": "var_list.r",
     "varRefreshCmd": "cat(var_dic_list()) "
    }
   },
   "types_to_exclude": [
    "module",
    "function",
    "builtin_function_or_method",
    "instance",
    "_Feature"
   ],
   "window_display": false
  }
 },
 "nbformat": 4,
 "nbformat_minor": 2
}
