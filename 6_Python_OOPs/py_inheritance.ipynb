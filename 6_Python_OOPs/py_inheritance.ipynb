{
 "cells": [
  {
   "cell_type": "markdown",
   "metadata": {},
   "source": [
    "<center><h1>Concepts of Inheritance</h1></center>"
   ]
  },
  {
   "cell_type": "markdown",
   "metadata": {},
   "source": [
    "### What is Inheritance?"
   ]
  },
  {
   "cell_type": "markdown",
   "metadata": {},
   "source": [
    "An act of receiving something passed down from your parents to you.\n",
    "* Legacy\n",
    "* Hereditament\n",
    "* so on"
   ]
  },
  {
   "cell_type": "markdown",
   "metadata": {},
   "source": [
    "### Inheritance in Computer Science"
   ]
  },
  {
   "cell_type": "markdown",
   "metadata": {},
   "source": [
    "#### Vangie Beal\n",
    "\n",
    "<img src=\"https://novascotiagirl.files.wordpress.com/2007/08/nsgirl.jpg\">\n",
    "\n",
    "said\n",
    "\n",
    "* In object-oriented programing (OOP) inheritance is a feature that represents the <strong>\"is a\"</strong> relationship between different classes.\n",
    "\n",
    "* Inheritance allows a class to have the same behavior as another class and extend that behavior to provide special action for specific needs.\n",
    "\n",
    "**Credits** - Image from internet"
   ]
  },
  {
   "cell_type": "markdown",
   "metadata": {},
   "source": [
    "### Inheritance Flow Diagram"
   ]
  },
  {
   "cell_type": "markdown",
   "metadata": {},
   "source": [
    "<img src=\"https://raw.githubusercontent.com/msameeruddin/Python-Programming/main/6_Python_OOPs/inheritance.png\">\n",
    "\n",
    "<br>\n",
    "\n",
    "**Image by author**"
   ]
  },
  {
   "cell_type": "markdown",
   "metadata": {},
   "source": [
    "### Types of Inheritance"
   ]
  },
  {
   "cell_type": "markdown",
   "metadata": {},
   "source": [
    "Inheritance is one of the important concepts in implementing Object Oriented Programming.\n",
    "\n",
    "* Single-level Inheritance\n",
    "* Multi-level Inheritance\n",
    "* Multiple Inheritance\n",
    "\n",
    "**Rules**\n",
    "\n",
    "* There should be same attributes of `__init__()` methods in both the `Parent` class and `Child` class.\n",
    "\n",
    "* Once a `Child` class inherits the `Parent` class, \n",
    "    - all the methods of `Parent` class can be called using `self.<method_name()>` technique.\n",
    "    - object creation should be done using `Child` class not the `Parent` class.\n",
    "\n",
    "**Note** - Same rules apply to <strong>Multi-level</strong> and <strong>Multiple</strong> inheritance."
   ]
  },
  {
   "cell_type": "markdown",
   "metadata": {},
   "source": [
    "### Single-level Inheritance\n",
    "\n",
    "* If only one **base class** is used to derive only one **subclass**, it is known as **single level** inheritance.\n",
    "\n",
    "**Structure**\n",
    "\n",
    "```python\n",
    "class A():\n",
    "    def __init__(self):\n",
    "        # do something\n",
    "        pass\n",
    "    \n",
    "class B(A):\n",
    "    def __init__(self):\n",
    "        # do something\n",
    "        pass\n",
    "```"
   ]
  },
  {
   "cell_type": "code",
   "execution_count": 1,
   "metadata": {},
   "outputs": [],
   "source": [
    "class College():\n",
    "    def __init__(self, start, end):\n",
    "        self.start = start\n",
    "        self.end = end\n",
    "    \n",
    "    def status_report(self):\n",
    "        return \"The time starts from {} till {}.\".format(self.start, self.end)\n",
    "\n",
    "############################\n",
    "\n",
    "class MathFest(College):\n",
    "    def __init__(self, start, end):\n",
    "        self.start = start\n",
    "        self.end = end\n",
    "    \n",
    "    def math_status_report(self):\n",
    "        open_statement = \"The Status report for Math fest is as follows.\"\n",
    "        print(open_statement)\n",
    "        statement = self.status_report()\n",
    "        return statement"
   ]
  },
  {
   "cell_type": "code",
   "execution_count": 2,
   "metadata": {
    "scrolled": false
   },
   "outputs": [
    {
     "name": "stdout",
     "output_type": "stream",
     "text": [
      "The Status report for Math fest is as follows.\n",
      "The time starts from 12 PM till 6 PM.\n",
      "The time starts from 12 PM till 6 PM.\n"
     ]
    }
   ],
   "source": [
    "math = MathFest(start=\"12 PM\", end=\"6 PM\")\n",
    "print(math.math_status_report())\n",
    "print(math.status_report())"
   ]
  },
  {
   "cell_type": "markdown",
   "metadata": {},
   "source": [
    "### Multi-level Inheritance"
   ]
  },
  {
   "cell_type": "markdown",
   "metadata": {},
   "source": [
    "* **Multilevel inheritance** refers to a mechanism where one class can inherit from a **derived class**, thereby making this **derived class** the **base** class for the new class.\n",
    "\n",
    "**Structure**\n",
    "\n",
    "```python\n",
    "class A():\n",
    "    def __init__(self):\n",
    "        pass\n",
    "\n",
    "class B(A):\n",
    "    def __init__(self):\n",
    "        pass\n",
    "\n",
    "class C(B):\n",
    "    def __init__(self):\n",
    "        pass\n",
    "```"
   ]
  },
  {
   "cell_type": "code",
   "execution_count": 3,
   "metadata": {},
   "outputs": [],
   "source": [
    "# from time import sleep\n",
    "# from random import choice\n",
    "\n",
    "# a = [1, 2 ,4, 5, 6, 7, 8, 9, 13, 12, 15]\n",
    "# for i in a:\n",
    "#     print(choice(a))\n",
    "#     sleep(1)"
   ]
  },
  {
   "cell_type": "code",
   "execution_count": 4,
   "metadata": {},
   "outputs": [],
   "source": [
    "from time import sleep\n",
    "from random import choice\n",
    "\n",
    "time_range = list(range(2, 8)) # [2, 3, 4, 5, 6, 7]\n",
    "\n",
    "## Grandparent class\n",
    "class WashingMachine():\n",
    "    def __init__(self, clothes):\n",
    "        self.clothes = clothes\n",
    "    \n",
    "    def begin_stage(self):\n",
    "        machine_desc = \"This machine has python os 😊 which detects clothes to wash.\"\n",
    "        print(machine_desc)\n",
    "        print(\"Clothes provided to the machine - {}\".format(self.clothes))\n",
    "        sleep(3)\n",
    "        return \"{} is yet to be washed.\".format(self.clothes)\n",
    "\n",
    "\n",
    "## Parent class\n",
    "class SpinningMachine(WashingMachine):\n",
    "    def __init__(self, clothes):\n",
    "        self.clothes = clothes\n",
    "    \n",
    "    def spinning_stage(self):\n",
    "        print(self.begin_stage())\n",
    "        print('\\n--------\\n')\n",
    "        motor_desc = \"The battery of this machine has python components 😋 that help spin the clothes.\"\n",
    "        print(motor_desc)\n",
    "        time_requires = choice(time_range)\n",
    "        print(\"\\t Total time required : {} secs\".format(time_requires))\n",
    "        sleep(time_requires)\n",
    "        return \"{} is getting spun to clean the dirt.\".format(self.clothes)\n",
    "\n",
    "\n",
    "## Child class or Grandchild class\n",
    "class DryingMachine(SpinningMachine):\n",
    "    def __init__(self, clothes):\n",
    "        self.clothes = clothes\n",
    "    \n",
    "    def drying_stage(self):\n",
    "        print(self.spinning_stage())\n",
    "        print('\\n--------\\n')\n",
    "        dry_desc = \"This machine has mini-sun of python version to dry all the clothes 😍.\"\n",
    "        print(dry_desc)\n",
    "        time_requires = choice(time_range)\n",
    "        print(\"\\t Total time required : {} secs\".format(time_requires))\n",
    "        sleep(time_requires)\n",
    "        return \"{} is getting dried.\".format(self.clothes)"
   ]
  },
  {
   "cell_type": "markdown",
   "metadata": {},
   "source": [
    "### Connections for the above example"
   ]
  },
  {
   "cell_type": "markdown",
   "metadata": {},
   "source": [
    "* DryingMachine → `is a` → SpinningMachine\n",
    "* SpinningMachine → `is a` → WashingMachine\n",
    "* ...\n",
    "* DryingMachine → `is a` → SpinningMachine → `is a` → WashingMachine"
   ]
  },
  {
   "cell_type": "code",
   "execution_count": 5,
   "metadata": {
    "scrolled": true
   },
   "outputs": [
    {
     "name": "stdout",
     "output_type": "stream",
     "text": [
      "This machine has python os 😊 which detects clothes to wash.\n",
      "Clothes provided to the machine - Jeans\n",
      "Jeans is yet to be washed.\n",
      "\n",
      "--------\n",
      "\n",
      "The battery of this machine has python components 😋 that help spin the clothes.\n",
      "\t Total time required : 5 secs\n",
      "Jeans is getting spun to clean the dirt.\n",
      "\n",
      "--------\n",
      "\n",
      "This machine has mini-sun of python version to dry all the clothes 😍.\n",
      "\t Total time required : 5 secs\n",
      "Jeans is getting dried.\n",
      "\n",
      "\n",
      "Jeans washed 🐣 successfully.\n"
     ]
    }
   ],
   "source": [
    "my_clothes = [\"T-shirt\", \"Jeans\", \"Towel\"]\n",
    "cloth = choice(my_clothes)\n",
    "\n",
    "machine = DryingMachine(clothes=cloth)\n",
    "print(machine.drying_stage())\n",
    "print(\"\\n\\n{} washed 🐣 successfully.\".format(cloth))"
   ]
  },
  {
   "cell_type": "markdown",
   "metadata": {},
   "source": [
    "### Multiple Inheritance"
   ]
  },
  {
   "cell_type": "markdown",
   "metadata": {},
   "source": [
    "* **Multiple inheritance** is a unique feature in which an object or class can inherit characteristics and features from more than one parent object or parent class.\n",
    "\n",
    "**Structure**\n",
    "\n",
    "```python\n",
    "class A():\n",
    "    def __init__(self):\n",
    "        pass\n",
    "\n",
    "class B():\n",
    "    def __init__(self):\n",
    "        pass\n",
    "\n",
    "######\n",
    "\n",
    "class C(A, B):\n",
    "    def __init__(self):\n",
    "        pass\n",
    "```\n",
    "\n",
    "<br>\n",
    "<img src=\"https://raw.githubusercontent.com/msameeruddin/Python-Programming/main/6_Python_OOPs/multiple_inheritance.png\">\n",
    "<br>\n",
    "\n",
    "**Image by author**"
   ]
  },
  {
   "cell_type": "code",
   "execution_count": 6,
   "metadata": {},
   "outputs": [],
   "source": [
    "class HumanBeings():\n",
    "    def human_popn(self):\n",
    "        return \"There are about 7.8 billion people\"\n",
    "\n",
    "############################\n",
    "\n",
    "class Insects():\n",
    "    def insect_popn(self):\n",
    "        return \"There are about 10 quintillion insects\"\n",
    "\n",
    "############################\n",
    "\n",
    "class Animals():\n",
    "    def animal_popn(self):\n",
    "        return \"There are about 8.7 million species of animals\"\n",
    "\n",
    "############################\n",
    "\n",
    "class Birds():\n",
    "    def bird_popn(self):\n",
    "        return \"There are about 200 to 400 billion individual birds\"\n",
    "\n",
    "############################\n",
    "\n",
    "class Trees():\n",
    "    def tree_popn(self):\n",
    "        return \"There are about 3 trillion trees\"\n",
    "\n",
    "############################\n",
    "\n",
    "class Earth(Trees, Birds, Animals, Insects, HumanBeings):\n",
    "    def planet_life(self):\n",
    "        print(self.tree_popn() + ' living on earth.')\n",
    "        print(self.bird_popn() + ' living on earth')\n",
    "        print(self.insect_popn() + ' living on earth.')\n",
    "        print(self.animal_popn() + ' living on earth.')\n",
    "        print(self.human_popn() + ' living on earth.')\n",
    "        print('############################')\n",
    "        return 'Earth is beautiful.'"
   ]
  },
  {
   "cell_type": "code",
   "execution_count": 7,
   "metadata": {
    "scrolled": true
   },
   "outputs": [
    {
     "name": "stdout",
     "output_type": "stream",
     "text": [
      "There are about 3 trillion trees living on earth.\n",
      "There are about 200 to 400 billion individual birds living on earth\n",
      "There are about 10 quintillion insects living on earth.\n",
      "There are about 8.7 million species of animals living on earth.\n",
      "There are about 7.8 billion people living on earth.\n",
      "############################\n",
      "Earth is beautiful.\n"
     ]
    }
   ],
   "source": [
    "life = Earth()\n",
    "print(life.planet_life())"
   ]
  },
  {
   "cell_type": "markdown",
   "metadata": {},
   "source": [
    "### Other Concepts in OOPs"
   ]
  },
  {
   "cell_type": "markdown",
   "metadata": {},
   "source": [
    "* Abstraction\n",
    "* Encapsulation\n",
    "* Polymorphism\n",
    "\n",
    "**Note** - Please read about this by yourself and ask doubts in case there is a confusion."
   ]
  },
  {
   "cell_type": "code",
   "execution_count": 8,
   "metadata": {},
   "outputs": [],
   "source": [
    "class Myself():\n",
    "    def __init__(self, name, interest):\n",
    "        self.name = name\n",
    "        self.__interest = interest\n",
    "    \n",
    "    # private method → __\n",
    "    def __show_yourself(self):\n",
    "        return \"The name is {} and interest is {}\".format(self.name, self.__interest)\n",
    "    \n",
    "# me = Myself(name=\"sameer\", interest=\"python\")\n",
    "# print(me.__show_yourself())\n",
    "\n",
    "# obj._ClassName-method_name\n",
    "# print(me._Myself__show_yourself())"
   ]
  },
  {
   "cell_type": "markdown",
   "metadata": {},
   "source": [
    "### Polymorphism"
   ]
  },
  {
   "cell_type": "markdown",
   "metadata": {},
   "source": [
    "* Polymorphism is the ability of a programming language to present the same **functionality** for several different underlying data types.\n",
    "* The best example for this is `len()` function in Python."
   ]
  },
  {
   "cell_type": "code",
   "execution_count": 9,
   "metadata": {
    "scrolled": false
   },
   "outputs": [
    {
     "name": "stdout",
     "output_type": "stream",
     "text": [
      "For string \t 5\n",
      "For list \t 6\n",
      "For tuple \t 5\n",
      "For dictionary \t 3\n"
     ]
    }
   ],
   "source": [
    "## String\n",
    "print(\"For string \\t\", len(\"hello\"))               # len() with str\n",
    "\n",
    "## List\n",
    "print(\"For list \\t\", len([1, 2, 12, 32, 43, 56]))              # len() with list\n",
    "\n",
    "## Tuple\n",
    "print(\"For tuple \\t\", len((1, 2, 0, 0, 0,)))                   # len() with tuple\n",
    "\n",
    "## Dictionary\n",
    "print(\"For dictionary \\t\", len({1 : 2, 3: 4, \"hello\" : \"hi\"})) # len() with dictionary"
   ]
  },
  {
   "cell_type": "code",
   "execution_count": 10,
   "metadata": {},
   "outputs": [],
   "source": [
    "def add_(e):\n",
    "    if isinstance(e, int):\n",
    "        return e + 3\n",
    "    elif isinstance(e, float):\n",
    "        return e + 3\n",
    "    elif isinstance(e, str):\n",
    "        return e + str(3)"
   ]
  },
  {
   "cell_type": "code",
   "execution_count": 11,
   "metadata": {
    "scrolled": true
   },
   "outputs": [
    {
     "data": {
      "text/plain": [
       "4"
      ]
     },
     "execution_count": 11,
     "metadata": {},
     "output_type": "execute_result"
    }
   ],
   "source": [
    "add_(1)"
   ]
  },
  {
   "cell_type": "code",
   "execution_count": 12,
   "metadata": {},
   "outputs": [
    {
     "data": {
      "text/plain": [
       "4.2"
      ]
     },
     "execution_count": 12,
     "metadata": {},
     "output_type": "execute_result"
    }
   ],
   "source": [
    "add_(1.2)"
   ]
  },
  {
   "cell_type": "code",
   "execution_count": 13,
   "metadata": {},
   "outputs": [
    {
     "data": {
      "text/plain": [
       "'python 3'"
      ]
     },
     "execution_count": 13,
     "metadata": {},
     "output_type": "execute_result"
    }
   ],
   "source": [
    "add_(\"python \")"
   ]
  },
  {
   "cell_type": "markdown",
   "metadata": {},
   "source": [
    "### What did we learn?"
   ]
  },
  {
   "cell_type": "markdown",
   "metadata": {},
   "source": [
    "* Inheritance definition\n",
    "* Inheritance flow diagram\n",
    "* Types of inheritance with coding examples\n",
    "* Polymorphism"
   ]
  }
 ],
 "metadata": {
  "kernelspec": {
   "display_name": "Python 3",
   "language": "python",
   "name": "python3"
  },
  "language_info": {
   "codemirror_mode": {
    "name": "ipython",
    "version": 3
   },
   "file_extension": ".py",
   "mimetype": "text/x-python",
   "name": "python",
   "nbconvert_exporter": "python",
   "pygments_lexer": "ipython3",
   "version": "3.8.4"
  }
 },
 "nbformat": 4,
 "nbformat_minor": 2
}
