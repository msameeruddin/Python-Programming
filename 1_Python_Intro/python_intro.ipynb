{
 "cells": [
  {
   "cell_type": "markdown",
   "metadata": {},
   "source": [
    "<center><h1>Introduction to Python</h1></center>"
   ]
  },
  {
   "cell_type": "markdown",
   "metadata": {},
   "source": [
    "### Programming is like writing english"
   ]
  },
  {
   "cell_type": "markdown",
   "metadata": {},
   "source": [
    "* Easy to get started.\n",
    "\n",
    "* Well known for its simplicity.\n",
    "\n",
    "* Well structured code.\n",
    "\n",
    "* Main intension was to teach kids how to program.\n",
    "\n",
    "* **Guido Van Rossum** a dutch programmer invented Python while working for Google.\n"
   ]
  },
  {
   "cell_type": "markdown",
   "metadata": {},
   "source": [
    "<img src=\"https://www.startertutorials.com/blog/wp-content/uploads/2018/04/Guido-von-rossum.jpg\">\n",
    "\n",
    "**Credits** - Image from Internet"
   ]
  },
  {
   "cell_type": "markdown",
   "metadata": {},
   "source": [
    "### Zen / Poem of Python by Tim Peters"
   ]
  },
  {
   "cell_type": "markdown",
   "metadata": {},
   "source": [
    "```python\n",
    ">>>\n",
    ">>>\n",
    ">>> import this\n",
    "The Zen of Python, by Tim Peters\n",
    "\n",
    "Beautiful is better than ugly.\n",
    "Explicit is better than implicit.\n",
    "Simple is better than complex.\n",
    "Complex is better than complicated.\n",
    "Flat is better than nested.\n",
    "Sparse is better than dense.\n",
    "Readability counts.\n",
    "Special cases are not special enough to break the rules.\n",
    "Although practicality beats purity.\n",
    "Errors should never pass silently.\n",
    "Unless explicitly silenced.\n",
    "In the face of ambiguity, refuse the temptation to guess.\n",
    "There should be one and preferably only one obvious way to do it.\n",
    "Although that way may not be obvious at first unless you are Dutch.\n",
    "Now is better than never.\n",
    "Although never is often better than right now.\n",
    "If the implementation is hard to explain, it is a bad idea.\n",
    "If the implementation is easy to explain, it may be a good idea.\n",
    "Namespaces are one honking great idea let us do more of those!\n",
    ">>>\n",
    ">>>\n",
    "```"
   ]
  },
  {
   "cell_type": "markdown",
   "metadata": {},
   "source": [
    "### What all can we develop using Python?"
   ]
  },
  {
   "cell_type": "markdown",
   "metadata": {},
   "source": [
    "* **Web Development**\n",
    "    - Flask\n",
    "    - Dash\n",
    "    - Django\n",
    "\n",
    "<br>\n",
    "\n",
    "* **Game Development**\n",
    "    - Pygame\n",
    "    - OpenGL\n",
    "\n",
    "<br>\n",
    "\n",
    "* **Numeric & Scientific Computation**\n",
    "    - Numpy\n",
    "    - Scipy\n",
    "    - OpenCV\n",
    "    - Pandas\n",
    "\n",
    "<br>\n",
    "\n",
    "* **Data Analysis**\n",
    "    - Pandas\n",
    "    - Statsmodel\n",
    "    - Statistics\n",
    "\n",
    "<br>\n",
    "\n",
    "* **Data Visualization**\n",
    "    - Matplotlib\n",
    "    - Plotly\n",
    "    - Bokeh\n",
    "\n",
    "<br>\n",
    "\n",
    "* **Machine Learning and Artificial Intelligence (Research & Development)**\n",
    "    - Scikit-learn\n",
    "    - Tensorflow\n",
    "    - Pytorch\n",
    "    - Keras\n",
    "    - Scikit-image\n",
    "\n",
    "<br>\n",
    "\n",
    "* **Mobile App Development**\n",
    "    - Kivy\n",
    "\n",
    "<br>\n",
    "\n",
    "* **Desktop Application**\n",
    "    - Tkinter\n",
    "\n",
    "<br>\n",
    "\n",
    "* **Web Scraping**\n",
    "    - BeautifulSoup\n",
    "    - Selenium (Automation)\n",
    "    - Scrapy\n",
    "\n",
    "The list goes on ..."
   ]
  },
  {
   "cell_type": "markdown",
   "metadata": {},
   "source": [
    "### Companies that use Python"
   ]
  },
  {
   "cell_type": "markdown",
   "metadata": {},
   "source": [
    "Almost all companies use Python for their requirements. Some of the big companies that use python\n",
    "\n",
    "* NASA\n",
    "* Google\n",
    "* IBM\n",
    "* Yahoo\n",
    "* Facebook\n",
    "* Netflix\n",
    "* YouTube\n",
    "* etc"
   ]
  },
  {
   "cell_type": "markdown",
   "metadata": {},
   "source": [
    "**Note** - Programming languages are created by other programming languages which are again created by other programming languages.\n",
    "\n",
    "<center><h3>Unix → C → Python</h3></center>"
   ]
  },
  {
   "cell_type": "markdown",
   "metadata": {},
   "source": [
    "### Why Python?"
   ]
  },
  {
   "cell_type": "markdown",
   "metadata": {},
   "source": [
    "* Python is very simple that anybody can get start. \n",
    "* Personally I imporved my coding skills and done projects as it is easy and very flexible. \n",
    "* The community is so big that you can find anything that can be solved through programming."
   ]
  },
  {
   "cell_type": "markdown",
   "metadata": {},
   "source": [
    "### My first program in Python"
   ]
  },
  {
   "cell_type": "code",
   "execution_count": 1,
   "metadata": {},
   "outputs": [
    {
     "name": "stdout",
     "output_type": "stream",
     "text": [
      "Hello world!\n"
     ]
    }
   ],
   "source": [
    "print(\"Hello world!\")"
   ]
  },
  {
   "cell_type": "markdown",
   "metadata": {},
   "source": [
    "### Comparison between `C` and `Python`"
   ]
  },
  {
   "cell_type": "markdown",
   "metadata": {},
   "source": [
    "```c\n",
    "#include<stdio.h>;\n",
    "int main() {\n",
    "    printf(\"Hello World!!!\");\n",
    "    return 0;\n",
    "}\n",
    "\n",
    "```"
   ]
  },
  {
   "cell_type": "markdown",
   "metadata": {},
   "source": [
    "### Comparison between `Java` and `Python`"
   ]
  },
  {
   "cell_type": "markdown",
   "metadata": {},
   "source": [
    "```java\n",
    "import io.*;\n",
    "\n",
    "class Simple {\n",
    "    public static void main(String args[]){\n",
    "        System.out.println(\"Hello World!!!\");\n",
    "    }\n",
    "}\n",
    "```"
   ]
  },
  {
   "cell_type": "markdown",
   "metadata": {},
   "source": [
    "### Initialization of a variable"
   ]
  },
  {
   "cell_type": "markdown",
   "metadata": {},
   "source": [
    "* Initializing is simply assigning a value to a variable or placeholder."
   ]
  },
  {
   "cell_type": "code",
   "execution_count": 2,
   "metadata": {
    "scrolled": true
   },
   "outputs": [
    {
     "name": "stdout",
     "output_type": "stream",
     "text": [
      "1231.9898\n"
     ]
    }
   ],
   "source": [
    "sameer = 1231.9898\n",
    "print(sameer)"
   ]
  },
  {
   "cell_type": "markdown",
   "metadata": {},
   "source": [
    "### Program Execution"
   ]
  },
  {
   "cell_type": "markdown",
   "metadata": {},
   "source": [
    "**Note** - The detailed explanation on how a computer executes the written program is shown is in this <strong><a href=\"https://msameeruddin.hashnode.dev/how-does-a-computer-understand-a-piece-of-code\">article</a></strong> written by me.\n",
    "\n",
    "\n",
    "* **Interpreter** → A program that is intended to execute the written program **line by line**.\n",
    "\n",
    "* **Compiler** → A method of converting the written program into a **machine code** which is executed by a Computer. This method is done by a Compiler. In simple it is just a translator."
   ]
  },
  {
   "cell_type": "markdown",
   "metadata": {},
   "source": [
    "### Interpreter execution example"
   ]
  },
  {
   "cell_type": "markdown",
   "metadata": {},
   "source": [
    "* Successful execution"
   ]
  },
  {
   "cell_type": "code",
   "execution_count": 3,
   "metadata": {
    "scrolled": false
   },
   "outputs": [
    {
     "name": "stdout",
     "output_type": "stream",
     "text": [
      "The value of a 10\n",
      "The value of b 20\n"
     ]
    }
   ],
   "source": [
    "a = 10\n",
    "print(\"The value of a\", a)\n",
    "b = 20\n",
    "print(\"The value of b\", b)"
   ]
  },
  {
   "cell_type": "markdown",
   "metadata": {},
   "source": [
    "* **Error** in the execution since the interpreter checks line by line. Here `d` is defined after it is been used and hence not supported in any language."
   ]
  },
  {
   "cell_type": "code",
   "execution_count": 4,
   "metadata": {
    "scrolled": true
   },
   "outputs": [
    {
     "name": "stdout",
     "output_type": "stream",
     "text": [
      "the value of c is 10\n"
     ]
    },
    {
     "ename": "NameError",
     "evalue": "name 'd' is not defined",
     "output_type": "error",
     "traceback": [
      "\u001b[1;31m---------------------------------------------------------------------------\u001b[0m",
      "\u001b[1;31mNameError\u001b[0m                                 Traceback (most recent call last)",
      "\u001b[1;32m<ipython-input-4-cf19c5fd0539>\u001b[0m in \u001b[0;36m<module>\u001b[1;34m\u001b[0m\n\u001b[0;32m      1\u001b[0m \u001b[0mc\u001b[0m \u001b[1;33m=\u001b[0m \u001b[1;36m10\u001b[0m\u001b[1;33m\u001b[0m\u001b[1;33m\u001b[0m\u001b[0m\n\u001b[0;32m      2\u001b[0m \u001b[0mprint\u001b[0m\u001b[1;33m(\u001b[0m\u001b[1;34m\"the value of c is\"\u001b[0m\u001b[1;33m,\u001b[0m \u001b[0mc\u001b[0m\u001b[1;33m)\u001b[0m\u001b[1;33m\u001b[0m\u001b[1;33m\u001b[0m\u001b[0m\n\u001b[1;32m----> 3\u001b[1;33m \u001b[0mprint\u001b[0m\u001b[1;33m(\u001b[0m\u001b[1;34m\"the value of d is\"\u001b[0m\u001b[1;33m,\u001b[0m \u001b[0md\u001b[0m\u001b[1;33m)\u001b[0m\u001b[1;33m\u001b[0m\u001b[1;33m\u001b[0m\u001b[0m\n\u001b[0m\u001b[0;32m      4\u001b[0m \u001b[0md\u001b[0m \u001b[1;33m=\u001b[0m \u001b[1;36m20\u001b[0m\u001b[1;33m\u001b[0m\u001b[1;33m\u001b[0m\u001b[0m\n",
      "\u001b[1;31mNameError\u001b[0m: name 'd' is not defined"
     ]
    }
   ],
   "source": [
    "c = 10\n",
    "print(\"the value of c is\", c)\n",
    "print(\"the value of d is\", d)\n",
    "d = 20"
   ]
  },
  {
   "cell_type": "markdown",
   "metadata": {},
   "source": [
    "### Variables"
   ]
  },
  {
   "cell_type": "markdown",
   "metadata": {},
   "source": [
    "* Mainly used to store the information or values\n",
    "* Come in usage with Data Types"
   ]
  },
  {
   "cell_type": "markdown",
   "metadata": {},
   "source": [
    "### Data types"
   ]
  },
  {
   "cell_type": "markdown",
   "metadata": {},
   "source": [
    "It is used to let the compiler know how the programmer (yourself) wants to use the data.\n",
    "\n",
    "* **int** → number - \n",
    "```python\n",
    "1, 2, 3\n",
    "```\n",
    "\n",
    "* **float** → decimal values - \n",
    "```python\n",
    "1, 2, 3\n",
    "```\n",
    "\n",
    "* **bool** → \n",
    "```python\n",
    "True, False\n",
    "```\n",
    "\n",
    "* **str** → \n",
    "```python\n",
    "\"hi\", 'hello'\n",
    "```\n",
    "\n",
    "* **list** → \n",
    "```python\n",
    "[int, float, str] → [1, 2.11, \"hi\"]\n",
    "```\n",
    "\n",
    "* **tuple** → \n",
    "```python\n",
    "(int, float, str) → (1, 2, 3, 4, 5, 6, \"hi\")\n",
    "```\n",
    "\n",
    "* **dict** → \n",
    "```python\n",
    "{\n",
    "    \"key1\" : \"value1\", \n",
    "    \"key2\" : \"value2\",\n",
    "}\n",
    "```"
   ]
  },
  {
   "cell_type": "markdown",
   "metadata": {},
   "source": [
    "### Questions"
   ]
  },
  {
   "cell_type": "markdown",
   "metadata": {},
   "source": [
    "* Are Interpreter and Compiler same?\n",
    "* Which is faster Compiler or Interpreter? Why?\n",
    "* What makes python slow when compared with C and Java?\n",
    "* Does python have a Compiler?"
   ]
  },
  {
   "cell_type": "markdown",
   "metadata": {},
   "source": [
    "### Helpful links"
   ]
  },
  {
   "cell_type": "markdown",
   "metadata": {},
   "source": [
    "* Top programming language - https://www.computer.org/publications/tech-news/trends/programming-languages-you-should-learn-in-2020"
   ]
  }
 ],
 "metadata": {
  "kernelspec": {
   "display_name": "Python 3",
   "language": "python",
   "name": "python3"
  },
  "language_info": {
   "codemirror_mode": {
    "name": "ipython",
    "version": 3
   },
   "file_extension": ".py",
   "mimetype": "text/x-python",
   "name": "python",
   "nbconvert_exporter": "python",
   "pygments_lexer": "ipython3",
   "version": "3.8.4"
  }
 },
 "nbformat": 4,
 "nbformat_minor": 2
}
