{
 "cells": [
  {
   "cell_type": "markdown",
   "metadata": {},
   "source": [
    "<center><h1>Introduction to Variables and Data Types</h1></center>"
   ]
  },
  {
   "cell_type": "markdown",
   "metadata": {},
   "source": [
    "### Variables"
   ]
  },
  {
   "cell_type": "markdown",
   "metadata": {},
   "source": [
    "* Are like placeholders to store the data / information and whenever there is a need of using the data / information, we can simply use the variables by calling it.\n",
    "\n",
    "<img src=\"https://raw.githubusercontent.com/msameeruddin/Python-Programming/main/2_Python_Datatypes/variables.png\">\n",
    "\n",
    "**Image by author**"
   ]
  },
  {
   "cell_type": "markdown",
   "metadata": {},
   "source": [
    "### Data Types"
   ]
  },
  {
   "cell_type": "markdown",
   "metadata": {},
   "source": [
    "* Come in handy with variables to tell the compiler or interpreter which *__\"type\"__* of the *__\"data\"__* you as a programmer going to store in the variables.\n",
    "\n",
    "<img src=\"https://raw.githubusercontent.com/msameeruddin/Python-Programming/main/2_Python_Datatypes/datatypes_library.png\">\n",
    "\n",
    "**Image by author**\n",
    "\n",
    "Unlike other languages, we need not specify or define the variable like this $\\rightarrow$ <strong>(type) [var_name] = (value)</strong>"
   ]
  },
  {
   "cell_type": "markdown",
   "metadata": {},
   "source": [
    "### `C` & `Python` Comparison"
   ]
  },
  {
   "cell_type": "markdown",
   "metadata": {},
   "source": [
    "**C** - example\n",
    "```c\n",
    "int a = 10;\n",
    "float b = 11.21;\n",
    "String c = \"hi\";\n",
    "```\n",
    "\n",
    "**Python** - example (Dynamic type)\n",
    "```python\n",
    "a = 10\n",
    "b = 11.21\n",
    "c = \"hi\"\n",
    "d = [1, 2, 3, 4, 5.321, \"hello\", \"world\"]\n",
    "e = True\n",
    "```\n",
    "\n",
    "In both the cases, to use the value `10` we can simply call `a`. Same case with `b` and `c`."
   ]
  },
  {
   "cell_type": "markdown",
   "metadata": {},
   "source": [
    "### `int`"
   ]
  },
  {
   "cell_type": "code",
   "execution_count": 1,
   "metadata": {},
   "outputs": [
    {
     "name": "stdout",
     "output_type": "stream",
     "text": [
      "123\n",
      "a - type <class 'int'>\n",
      "4324434355345455\n",
      "b - type <class 'int'>\n"
     ]
    }
   ],
   "source": [
    "a = 123\n",
    "print(a)\n",
    "print(\"a - type\", type(a))\n",
    "\n",
    "b = 4324434355345455\n",
    "print(b)\n",
    "print(\"b - type\", type(b))"
   ]
  },
  {
   "cell_type": "markdown",
   "metadata": {},
   "source": [
    "### `float`"
   ]
  },
  {
   "cell_type": "code",
   "execution_count": 2,
   "metadata": {},
   "outputs": [
    {
     "name": "stdout",
     "output_type": "stream",
     "text": [
      "12.3423\n",
      "a - type <class 'float'>\n",
      "21323.0\n",
      "b - type <class 'float'>\n"
     ]
    }
   ],
   "source": [
    "a = 12.3423\n",
    "print(a)\n",
    "print(\"a - type\", type(a))\n",
    "\n",
    "b = 21323.000\n",
    "print(b)\n",
    "print(\"b - type\", type(b))"
   ]
  },
  {
   "cell_type": "markdown",
   "metadata": {},
   "source": [
    "### String → `str`"
   ]
  },
  {
   "cell_type": "code",
   "execution_count": 3,
   "metadata": {},
   "outputs": [
    {
     "name": "stdout",
     "output_type": "stream",
     "text": [
      "sameer\n",
      "a - type <class 'str'>\n",
      "s\n",
      "d - type <class 'str'>\n",
      "python\n",
      "b - type <class 'str'>\n",
      "123\n",
      "c - type <class 'str'>\n",
      "python is amazing\n",
      "e - type <class 'str'>\n"
     ]
    }
   ],
   "source": [
    "# with single quotes\n",
    "a = 'sameer'\n",
    "print(a)\n",
    "print(\"a - type\", type(a))\n",
    "\n",
    "d = 's'\n",
    "print(d)\n",
    "print(\"d - type\", type(d))\n",
    "\n",
    "# with double quotes\n",
    "b = \"python\"\n",
    "print(b)\n",
    "print(\"b - type\", type(b))\n",
    "\n",
    "c = '123'\n",
    "print(c)\n",
    "print(\"c - type\", type(c))\n",
    "\n",
    "# with triple quotes\n",
    "e = '''python is amazing'''\n",
    "print(e)\n",
    "print(\"e - type\", type(e))"
   ]
  },
  {
   "cell_type": "code",
   "execution_count": 4,
   "metadata": {},
   "outputs": [
    {
     "name": "stdout",
     "output_type": "stream",
     "text": [
      "\n",
      "hi\n",
      "hello\n",
      "how are you\n",
      "\n",
      "f type <class 'str'>\n"
     ]
    }
   ],
   "source": [
    "f = '''\n",
    "hi\n",
    "hello\n",
    "how are you\n",
    "'''\n",
    "\n",
    "print(f)\n",
    "print(\"f type\", type(f))"
   ]
  },
  {
   "cell_type": "code",
   "execution_count": 5,
   "metadata": {},
   "outputs": [
    {
     "name": "stdout",
     "output_type": "stream",
     "text": [
      "<class 'str'>\n"
     ]
    }
   ],
   "source": [
    "s = '#$%##$%%%&$$%^'\n",
    "print(type(s))"
   ]
  },
  {
   "cell_type": "markdown",
   "metadata": {},
   "source": [
    "### `list`"
   ]
  },
  {
   "cell_type": "markdown",
   "metadata": {},
   "source": [
    "* A container that can store elements of **any type** and seperated by comma (,)\n",
    "    * starts with `[`\n",
    "    * ends with `]`"
   ]
  },
  {
   "cell_type": "code",
   "execution_count": 6,
   "metadata": {
    "scrolled": true
   },
   "outputs": [
    {
     "name": "stdout",
     "output_type": "stream",
     "text": [
      "[1, 12.323, 'hi']\n",
      "a - type <class 'list'>\n"
     ]
    }
   ],
   "source": [
    "a = [1, 12.323, \"hi\"]\n",
    "print(a)\n",
    "print(\"a - type\", type(a))"
   ]
  },
  {
   "cell_type": "code",
   "execution_count": 7,
   "metadata": {},
   "outputs": [
    {
     "name": "stdout",
     "output_type": "stream",
     "text": [
      "[1, 2, 3, ['hey', 12.18]]\n",
      "b - type <class 'list'>\n"
     ]
    }
   ],
   "source": [
    "b = [1, 2, 3, ['hey', 12.18]]\n",
    "print(b)\n",
    "print(\"b - type\", type(b))"
   ]
  },
  {
   "cell_type": "markdown",
   "metadata": {},
   "source": [
    "### List Indexing"
   ]
  },
  {
   "cell_type": "markdown",
   "metadata": {},
   "source": [
    "* List indexing starts from `0`.\n",
    "* The last index of the list would be `(n - 1)`."
   ]
  },
  {
   "cell_type": "code",
   "execution_count": 8,
   "metadata": {
    "scrolled": true
   },
   "outputs": [
    {
     "name": "stdout",
     "output_type": "stream",
     "text": [
      "first hey\n",
      "second python\n",
      "fourth india\n",
      "fifth Earth\n"
     ]
    }
   ],
   "source": [
    "a = [\"hey\", \"python\", \"sameer\", \"india\", \"Earth\"]\n",
    "print(\"first\", a[0])\n",
    "print(\"second\", a[1])\n",
    "print(\"fourth\", a[3])\n",
    "print(\"fifth\", a[4])\n",
    "\n",
    "# the length of the above list is 5\n",
    "# print(a[5]) # error occurs\n",
    "# print(a[-1])"
   ]
  },
  {
   "cell_type": "markdown",
   "metadata": {},
   "source": [
    "### `list` Concatenation"
   ]
  },
  {
   "cell_type": "code",
   "execution_count": 9,
   "metadata": {},
   "outputs": [
    {
     "name": "stdout",
     "output_type": "stream",
     "text": [
      "[1, 2, 3, 10, 11, 100, 1000, 'boom boom', 4, 5, 6]\n"
     ]
    }
   ],
   "source": [
    "my1 = [1, 2, 3, 10, 11, 100, 1000, \"boom boom\"]\n",
    "my2 = [4, 5, 6]\n",
    "\n",
    "print(my1 + my2)"
   ]
  },
  {
   "cell_type": "code",
   "execution_count": 10,
   "metadata": {},
   "outputs": [
    {
     "name": "stdout",
     "output_type": "stream",
     "text": [
      "[1, 2, 3, 10, 11, 100, 1000, 'boom boom', [4, 5, 6]]\n"
     ]
    }
   ],
   "source": [
    "my1 = [1, 2, 3, 10, 11, 100, 1000, \"boom boom\"]\n",
    "my2 = [4, 5, 6]\n",
    "\n",
    "my1.append(my2)\n",
    "print(my1)"
   ]
  },
  {
   "cell_type": "code",
   "execution_count": 11,
   "metadata": {},
   "outputs": [
    {
     "name": "stdout",
     "output_type": "stream",
     "text": [
      "[1, 2, 3, 10, 11, 100, 1000, 'boom boom', '4, 5, 6']\n"
     ]
    }
   ],
   "source": [
    "my1 = [1, 2, 3, 10, 11, 100, 1000, \"boom boom\"]\n",
    "my2 = [\"4, 5, 6\"]\n",
    "\n",
    "print(my1 + my2)"
   ]
  },
  {
   "cell_type": "markdown",
   "metadata": {},
   "source": [
    "### `append()`"
   ]
  },
  {
   "cell_type": "markdown",
   "metadata": {},
   "source": [
    "* It adds values at the end of the list."
   ]
  },
  {
   "cell_type": "code",
   "execution_count": 12,
   "metadata": {},
   "outputs": [
    {
     "name": "stdout",
     "output_type": "stream",
     "text": [
      "[1, 2, 3, 4]\n"
     ]
    }
   ],
   "source": [
    "my = [1, 2, 3]\n",
    "b = 4\n",
    "\n",
    "# add 4 to my1 in such a way that I get [1, 2, 3, 4]\n",
    "my.append(b)\n",
    "print(my)"
   ]
  },
  {
   "cell_type": "code",
   "execution_count": 13,
   "metadata": {
    "scrolled": false
   },
   "outputs": [
    {
     "name": "stdout",
     "output_type": "stream",
     "text": [
      "before -  [1, 2, 3]\n",
      "single value append -  [1, 2, 3, 4]\n",
      "appending a list -  [1, 2, 3, 4, ['hi', 'hey', 'hello']]\n",
      "after -  [1, 2, 3, 4, ['hi', 'hey', 'hello']]\n"
     ]
    }
   ],
   "source": [
    "my3 = [1, 2, 3]\n",
    "print(\"before - \", my3)\n",
    "\n",
    "# append a single value\n",
    "my3.append(4)\n",
    "print(\"single value append - \", my3)\n",
    "\n",
    "# append an entire list\n",
    "my3.append([\"hi\", \"hey\", \"hello\"])\n",
    "print(\"appending a list - \", my3)\n",
    "\n",
    "# what is the output of my3 if I print?\n",
    "print(\"after - \", my3)"
   ]
  },
  {
   "cell_type": "markdown",
   "metadata": {},
   "source": [
    "### `insert()`"
   ]
  },
  {
   "cell_type": "markdown",
   "metadata": {},
   "source": [
    "* It adds values in the middle of list."
   ]
  },
  {
   "cell_type": "code",
   "execution_count": 14,
   "metadata": {},
   "outputs": [
    {
     "data": {
      "text/plain": [
       "[1, 2, 3, 4, ['hi', 'hey', 'hello']]"
      ]
     },
     "execution_count": 14,
     "metadata": {},
     "output_type": "execute_result"
    }
   ],
   "source": [
    "my3"
   ]
  },
  {
   "cell_type": "code",
   "execution_count": 15,
   "metadata": {},
   "outputs": [],
   "source": [
    "some_element = 'wooooo'"
   ]
  },
  {
   "cell_type": "code",
   "execution_count": 16,
   "metadata": {},
   "outputs": [],
   "source": [
    "my3.insert(3, some_element)"
   ]
  },
  {
   "cell_type": "code",
   "execution_count": 17,
   "metadata": {
    "scrolled": true
   },
   "outputs": [
    {
     "name": "stdout",
     "output_type": "stream",
     "text": [
      "[1, 2, 3, 'wooooo', 4, ['hi', 'hey', 'hello']]\n"
     ]
    }
   ],
   "source": [
    "print(my3)"
   ]
  },
  {
   "cell_type": "markdown",
   "metadata": {},
   "source": [
    "### `len()`"
   ]
  },
  {
   "cell_type": "code",
   "execution_count": 18,
   "metadata": {},
   "outputs": [
    {
     "name": "stdout",
     "output_type": "stream",
     "text": [
      "['1', '2', 'python', 'java', 'c', 2121.323]\n",
      "a - type <class 'list'>\n",
      "length or size of a is -  6\n"
     ]
    }
   ],
   "source": [
    "a = [\"1\", \"2\", \"python\", \"java\", \"c\", 2121.323]\n",
    "print(a)\n",
    "print(\"a - type\", type(a))\n",
    "######\n",
    "print(\"length or size of a is - \", len(a))"
   ]
  },
  {
   "cell_type": "markdown",
   "metadata": {},
   "source": [
    "<center><h1>Operators in Python</h1></center>"
   ]
  },
  {
   "cell_type": "markdown",
   "metadata": {},
   "source": [
    "Represent an action to be performed on the **data / object** and return the result.\n",
    "\n",
    "**Operator** is a way to perform an action or operation. Specifically in mathematics if we want to perform addtion operation, we simply use `+`. The concept of Operators is same in Computer science as well.\n",
    "\n",
    "**Types of operators**\n",
    "\n",
    "* Arithematic Operators\n",
    "* Assignment Operators\n",
    "* Relational Operators\n",
    "* Logical Operators\n",
    "* Identity Operators\n",
    "* Membership Operators\n",
    "* Bitwise Operators"
   ]
  },
  {
   "cell_type": "markdown",
   "metadata": {},
   "source": [
    "### Arithematic Operators → `+`, `-`, `*`, `/`, `%`, `//`"
   ]
  },
  {
   "cell_type": "markdown",
   "metadata": {},
   "source": [
    "* `+` → addition\n",
    "* `-` → subtraction\n",
    "* `*` → multiplication\n",
    "* `/` → division\n",
    "* `%` → modulus\n",
    "* `//` → integer division or floor division"
   ]
  },
  {
   "cell_type": "code",
   "execution_count": 19,
   "metadata": {},
   "outputs": [
    {
     "name": "stdout",
     "output_type": "stream",
     "text": [
      "30.75\n",
      "30\n"
     ]
    }
   ],
   "source": [
    "# show example of each kind\n",
    "a = 123\n",
    "b = 4\n",
    "print(a / b)\n",
    "print(a // b)"
   ]
  },
  {
   "cell_type": "code",
   "execution_count": 20,
   "metadata": {},
   "outputs": [
    {
     "data": {
      "text/plain": [
       "(4, 4.0)"
      ]
     },
     "execution_count": 20,
     "metadata": {},
     "output_type": "execute_result"
    }
   ],
   "source": [
    "(12 // 3), (12 / 3)"
   ]
  },
  {
   "cell_type": "code",
   "execution_count": 21,
   "metadata": {},
   "outputs": [
    {
     "name": "stdout",
     "output_type": "stream",
     "text": [
      "0\n"
     ]
    }
   ],
   "source": [
    "e = 4\n",
    "print(e % 2)"
   ]
  },
  {
   "cell_type": "code",
   "execution_count": 22,
   "metadata": {},
   "outputs": [
    {
     "data": {
      "text/plain": [
       "2.0"
      ]
     },
     "execution_count": 22,
     "metadata": {},
     "output_type": "execute_result"
    }
   ],
   "source": [
    "e / 2"
   ]
  },
  {
   "cell_type": "markdown",
   "metadata": {},
   "source": [
    "### $a^3$ → Power Operation"
   ]
  },
  {
   "cell_type": "code",
   "execution_count": 23,
   "metadata": {},
   "outputs": [
    {
     "name": "stdout",
     "output_type": "stream",
     "text": [
      "64\n"
     ]
    }
   ],
   "source": [
    "a = 2\n",
    "print(a ** 6)"
   ]
  },
  {
   "cell_type": "markdown",
   "metadata": {},
   "source": [
    "### BODMAS"
   ]
  },
  {
   "cell_type": "markdown",
   "metadata": {},
   "source": [
    "* **B** → ()\n",
    "* **O** → orders\n",
    "* **D** → /\n",
    "* **M** → *\n",
    "* **A** → +\n",
    "* **S** → -"
   ]
  },
  {
   "cell_type": "code",
   "execution_count": 24,
   "metadata": {},
   "outputs": [
    {
     "data": {
      "text/plain": [
       "98"
      ]
     },
     "execution_count": 24,
     "metadata": {},
     "output_type": "execute_result"
    }
   ],
   "source": [
    "(1 + 21 // 3) * 12 + 13 - 11"
   ]
  },
  {
   "cell_type": "code",
   "execution_count": 25,
   "metadata": {},
   "outputs": [
    {
     "name": "stdout",
     "output_type": "stream",
     "text": [
      "90\n"
     ]
    }
   ],
   "source": [
    "num1 = 32\n",
    "print(num1 * 3 + 4 - 10)"
   ]
  },
  {
   "cell_type": "code",
   "execution_count": 26,
   "metadata": {},
   "outputs": [
    {
     "data": {
      "text/plain": [
       "0"
      ]
     },
     "execution_count": 26,
     "metadata": {},
     "output_type": "execute_result"
    }
   ],
   "source": [
    "12 // (3 * 5)"
   ]
  },
  {
   "cell_type": "code",
   "execution_count": 27,
   "metadata": {},
   "outputs": [
    {
     "data": {
      "text/plain": [
       "17.0"
      ]
     },
     "execution_count": 27,
     "metadata": {},
     "output_type": "execute_result"
    }
   ],
   "source": [
    "289 ** (1 / 2)"
   ]
  },
  {
   "cell_type": "markdown",
   "metadata": {},
   "source": [
    "### Assignment Operator → `=`"
   ]
  },
  {
   "cell_type": "markdown",
   "metadata": {},
   "source": [
    "* Variable declaration (Main use)"
   ]
  },
  {
   "cell_type": "code",
   "execution_count": 28,
   "metadata": {
    "scrolled": true
   },
   "outputs": [
    {
     "name": "stdout",
     "output_type": "stream",
     "text": [
      "before 6\n",
      "after 10\n"
     ]
    }
   ],
   "source": [
    "# show other examples\n",
    "\n",
    "num2 = 2\n",
    "num2 = num2 + 4\n",
    "print(\"before\", num2)\n",
    "\n",
    "# num2 = num2 + 4\n",
    "num2 += 4\n",
    "print(\"after\", num2)"
   ]
  },
  {
   "cell_type": "code",
   "execution_count": 29,
   "metadata": {},
   "outputs": [
    {
     "name": "stdout",
     "output_type": "stream",
     "text": [
      "before 2\n",
      "after 10\n"
     ]
    }
   ],
   "source": [
    "num2 = 2\n",
    "print(\"before\", num2)\n",
    "\n",
    "# num2 = 10 + num2\n",
    "num2 =+ 10\n",
    "print(\"after\", num2)"
   ]
  },
  {
   "cell_type": "markdown",
   "metadata": {},
   "source": [
    "### Relational Operators"
   ]
  },
  {
   "cell_type": "markdown",
   "metadata": {},
   "source": [
    "Mainly used in comparing two variables or data values. Always returns `boolean`\n",
    "\n",
    "```python\n",
    "True\n",
    "False\n",
    "```\n",
    "\n",
    "* `==` → Equal\n",
    "* `!=` → not Equal\n",
    "* `<=` → less than or Equal\n",
    "* `>=` → greater than or Equal\n",
    "* `<` → less than\n",
    "* `>` → greater than"
   ]
  },
  {
   "cell_type": "code",
   "execution_count": 30,
   "metadata": {
    "scrolled": true
   },
   "outputs": [
    {
     "data": {
      "text/plain": [
       "True"
      ]
     },
     "execution_count": 30,
     "metadata": {},
     "output_type": "execute_result"
    }
   ],
   "source": [
    "# show examples → !=\n",
    "\n",
    "num3 = 1\n",
    "num4 = -1\n",
    "num3 != num4"
   ]
  },
  {
   "cell_type": "code",
   "execution_count": 31,
   "metadata": {},
   "outputs": [
    {
     "data": {
      "text/plain": [
       "True"
      ]
     },
     "execution_count": 31,
     "metadata": {},
     "output_type": "execute_result"
    }
   ],
   "source": [
    "# show examples → ==\n",
    "\n",
    "num3 = 1\n",
    "num4 = 1\n",
    "num3 == num4"
   ]
  },
  {
   "cell_type": "code",
   "execution_count": 32,
   "metadata": {},
   "outputs": [
    {
     "data": {
      "text/plain": [
       "True"
      ]
     },
     "execution_count": 32,
     "metadata": {},
     "output_type": "execute_result"
    }
   ],
   "source": [
    "# show examples → >\n",
    "\n",
    "num3 = 1\n",
    "num4 = 2\n",
    "num4 > num3"
   ]
  },
  {
   "cell_type": "markdown",
   "metadata": {},
   "source": [
    "### Logical Operators → `and`, `or`, `not`"
   ]
  },
  {
   "cell_type": "markdown",
   "metadata": {},
   "source": [
    "To understand this, let us understand a basic chart (sheet) to get started.\n",
    "\n",
    "<img src=\"https://raw.githubusercontent.com/msameeruddin/Python-Programming/main/2_Python_Datatypes/cheatsheet_oan.png\">\n",
    "\n",
    "**Image by author**\n",
    "\n",
    "Logical operators are heavily used in **conditional statements**. We cannot imagine a development or a program without conditional statements.\n",
    "\n",
    "**Note**\n",
    "* In the above table `T` refers to `True` and `F` refers to `False`. \n",
    "* For our convenience we can rewrite `T` as `1` and `F` as `0`."
   ]
  },
  {
   "cell_type": "code",
   "execution_count": 33,
   "metadata": {},
   "outputs": [
    {
     "data": {
      "text/plain": [
       "True"
      ]
     },
     "execution_count": 33,
     "metadata": {},
     "output_type": "execute_result"
    }
   ],
   "source": [
    "True or True"
   ]
  },
  {
   "cell_type": "code",
   "execution_count": 34,
   "metadata": {},
   "outputs": [
    {
     "data": {
      "text/plain": [
       "True"
      ]
     },
     "execution_count": 34,
     "metadata": {},
     "output_type": "execute_result"
    }
   ],
   "source": [
    "True or False"
   ]
  },
  {
   "cell_type": "code",
   "execution_count": 35,
   "metadata": {},
   "outputs": [
    {
     "data": {
      "text/plain": [
       "True"
      ]
     },
     "execution_count": 35,
     "metadata": {},
     "output_type": "execute_result"
    }
   ],
   "source": [
    "True or True or False or True"
   ]
  },
  {
   "cell_type": "code",
   "execution_count": 36,
   "metadata": {},
   "outputs": [
    {
     "data": {
      "text/plain": [
       "False"
      ]
     },
     "execution_count": 36,
     "metadata": {},
     "output_type": "execute_result"
    }
   ],
   "source": [
    "True and False"
   ]
  },
  {
   "cell_type": "code",
   "execution_count": 37,
   "metadata": {},
   "outputs": [
    {
     "data": {
      "text/plain": [
       "True"
      ]
     },
     "execution_count": 37,
     "metadata": {},
     "output_type": "execute_result"
    }
   ],
   "source": [
    "True and True"
   ]
  },
  {
   "cell_type": "code",
   "execution_count": 38,
   "metadata": {},
   "outputs": [
    {
     "data": {
      "text/plain": [
       "True"
      ]
     },
     "execution_count": 38,
     "metadata": {},
     "output_type": "execute_result"
    }
   ],
   "source": [
    "True or False and True or False"
   ]
  },
  {
   "cell_type": "code",
   "execution_count": 39,
   "metadata": {},
   "outputs": [
    {
     "data": {
      "text/plain": [
       "False"
      ]
     },
     "execution_count": 39,
     "metadata": {},
     "output_type": "execute_result"
    }
   ],
   "source": [
    "not True"
   ]
  },
  {
   "cell_type": "code",
   "execution_count": 40,
   "metadata": {},
   "outputs": [
    {
     "data": {
      "text/plain": [
       "True"
      ]
     },
     "execution_count": 40,
     "metadata": {},
     "output_type": "execute_result"
    }
   ],
   "source": [
    "not False"
   ]
  },
  {
   "cell_type": "code",
   "execution_count": 41,
   "metadata": {},
   "outputs": [
    {
     "data": {
      "text/plain": [
       "True"
      ]
     },
     "execution_count": 41,
     "metadata": {},
     "output_type": "execute_result"
    }
   ],
   "source": [
    "False or (not (not (not False)))"
   ]
  },
  {
   "cell_type": "code",
   "execution_count": 42,
   "metadata": {},
   "outputs": [
    {
     "data": {
      "text/plain": [
       "True"
      ]
     },
     "execution_count": 42,
     "metadata": {},
     "output_type": "execute_result"
    }
   ],
   "source": [
    "n1 = 1\n",
    "n2 = 1\n",
    "n3 = 5\n",
    "n4 = -12\n",
    "\n",
    "not ((n1 == n2) and (n4 > n3))"
   ]
  },
  {
   "cell_type": "markdown",
   "metadata": {},
   "source": [
    "### Identity Operators → `is`, `is not`"
   ]
  },
  {
   "cell_type": "markdown",
   "metadata": {},
   "source": [
    "This is used when we want to compare **two objects**. Here I strongly say that we are **not** comparing or relating **two values**. We rather deal with same memory location of the values.\n",
    "\n",
    "```python\n",
    ">>> 1 is 1\n",
    "True\n",
    ">>> 0 is 1\n",
    "False\n",
    "```\n",
    "\n",
    "**Note**\n",
    "\n",
    "* **is** → is same as **==**\n",
    "* **is not** → is same as **!=**\n",
    "\n",
    "**Examples**\n",
    "\n",
    "```python\n",
    ">>> 100 is 100\n",
    "True\n",
    ">>> 100 == 100\n",
    "True\n",
    ">>> ##########\n",
    ">>> 100 is 110\n",
    "False\n",
    ">>> 110 == 100\n",
    "False\n",
    ">>> 110 is not 100\n",
    "True\n",
    ">>> 110 != 100\n",
    "True\n",
    "```"
   ]
  },
  {
   "cell_type": "code",
   "execution_count": 43,
   "metadata": {},
   "outputs": [],
   "source": [
    "my_num = 100\n",
    "my_num2 = 110"
   ]
  },
  {
   "cell_type": "code",
   "execution_count": 44,
   "metadata": {
    "scrolled": true
   },
   "outputs": [
    {
     "name": "stdout",
     "output_type": "stream",
     "text": [
      "False\n",
      "True\n"
     ]
    }
   ],
   "source": [
    "print(my_num is my_num2)\n",
    "print(my_num is not my_num2)"
   ]
  },
  {
   "cell_type": "markdown",
   "metadata": {},
   "source": [
    "### Membership Operators → `in`, `not in`"
   ]
  },
  {
   "cell_type": "markdown",
   "metadata": {},
   "source": [
    "It is used to validate if a particular element is present in a sequence or not. It is mostly used `List` to check if an item is present in a sequence. Returns a boolean object after performing the operation.\n",
    "\n",
    "```python\n",
    ">>> 1 in [1, 2, 3, 4, 5, 6]\n",
    "True\n",
    ">>> -1 in [1, 2, -3, -4, -5, 87, 100]\n",
    "False\n",
    "```"
   ]
  },
  {
   "cell_type": "code",
   "execution_count": 45,
   "metadata": {},
   "outputs": [
    {
     "data": {
      "text/plain": [
       "True"
      ]
     },
     "execution_count": 45,
     "metadata": {},
     "output_type": "execute_result"
    }
   ],
   "source": [
    "1 in [1, 2, 3, 4, 5, 6]"
   ]
  },
  {
   "cell_type": "code",
   "execution_count": 46,
   "metadata": {},
   "outputs": [
    {
     "data": {
      "text/plain": [
       "3"
      ]
     },
     "execution_count": 46,
     "metadata": {},
     "output_type": "execute_result"
    }
   ],
   "source": [
    "l = [1, 2, 3, 4, 5, 6]\n",
    "l.index(4)"
   ]
  },
  {
   "cell_type": "code",
   "execution_count": 47,
   "metadata": {
    "scrolled": true
   },
   "outputs": [
    {
     "data": {
      "text/plain": [
       "True"
      ]
     },
     "execution_count": 47,
     "metadata": {},
     "output_type": "execute_result"
    }
   ],
   "source": [
    "a = [\"hi\", \"hello\", \"hey\"]\n",
    "\"hey\" in a"
   ]
  },
  {
   "cell_type": "code",
   "execution_count": 48,
   "metadata": {
    "scrolled": false
   },
   "outputs": [
    {
     "data": {
      "text/plain": [
       "False"
      ]
     },
     "execution_count": 48,
     "metadata": {},
     "output_type": "execute_result"
    }
   ],
   "source": [
    "not (not \"hola\" in a)"
   ]
  },
  {
   "cell_type": "markdown",
   "metadata": {},
   "source": [
    "<center><h1>Special Built-In Methods</h1></center>"
   ]
  },
  {
   "cell_type": "markdown",
   "metadata": {},
   "source": [
    "A built-in method is a special method that can used without its creation. In simple words, it can be used by simply refering its name provided required arguments. \n",
    "\n",
    "There are so many built-in methods in python which will ease the complications. We need not worry about the code that is been holding the function to work like magic.\n",
    "\n",
    "List of built-in methods\n",
    "\n",
    "* ```python\n",
    "print()\n",
    "```\n",
    "* ```python\n",
    "type()\n",
    "```\n",
    "* ```python\n",
    "id()\n",
    "```\n",
    "* ```python\n",
    "help()\n",
    "```\n",
    "* ```python\n",
    "len()\n",
    "```\n",
    "* ```python\n",
    "abs()\n",
    "```\n",
    "* ```python\n",
    "min()\n",
    "```\n",
    "* ```python\n",
    "max()\n",
    "```\n",
    "* ```python\n",
    "int()\n",
    "```\n",
    "* ```python\n",
    "range()\n",
    "```\n",
    "* ```python\n",
    "float()\n",
    "```\n",
    "* ```python\n",
    "str()\n",
    "```\n",
    "* ```python\n",
    "list()\n",
    "```\n",
    "* ```python\n",
    "sorted()\n",
    "```\n",
    "* ```python\n",
    "reversed()\n",
    "```\n",
    "* ```python\n",
    "round()\n",
    "```\n",
    "* ```python\n",
    "...\n",
    "```"
   ]
  },
  {
   "cell_type": "markdown",
   "metadata": {},
   "source": [
    "### Homework or Exercise"
   ]
  },
  {
   "cell_type": "markdown",
   "metadata": {},
   "source": [
    "**Note** - Find out more about this by yourself.\n",
    "\n",
    "* **step 1** - apply `help()` function with any of the above functions.\n",
    "* **step 2** - read the description of the function.\n",
    "* **step 3** - come up with your own examples and test it yourself.\n",
    "\n",
    "You can find one example below - "
   ]
  },
  {
   "cell_type": "code",
   "execution_count": 49,
   "metadata": {},
   "outputs": [
    {
     "name": "stdout",
     "output_type": "stream",
     "text": [
      "Help on built-in function print in module builtins:\n",
      "\n",
      "print(...)\n",
      "    print(value, ..., sep=' ', end='\\n', file=sys.stdout, flush=False)\n",
      "    \n",
      "    Prints the values to a stream, or to sys.stdout by default.\n",
      "    Optional keyword arguments:\n",
      "    file:  a file-like object (stream); defaults to the current sys.stdout.\n",
      "    sep:   string inserted between values, default a space.\n",
      "    end:   string appended after the last value, default a newline.\n",
      "    flush: whether to forcibly flush the stream.\n",
      "\n"
     ]
    }
   ],
   "source": [
    "help(print)"
   ]
  },
  {
   "cell_type": "code",
   "execution_count": 50,
   "metadata": {},
   "outputs": [
    {
     "name": "stdout",
     "output_type": "stream",
     "text": [
      "The Earth is my home !!!\n"
     ]
    }
   ],
   "source": [
    "print(\"The Earth is my home !!!\")"
   ]
  },
  {
   "cell_type": "markdown",
   "metadata": {},
   "source": [
    "### What did we learn?"
   ]
  },
  {
   "cell_type": "markdown",
   "metadata": {},
   "source": [
    "* Variables\n",
    "* Data types\n",
    "* Operators\n",
    "* Types of Opeators\n",
    "* Built-in methods"
   ]
  }
 ],
 "metadata": {
  "kernelspec": {
   "display_name": "Python 3",
   "language": "python",
   "name": "python3"
  },
  "language_info": {
   "codemirror_mode": {
    "name": "ipython",
    "version": 3
   },
   "file_extension": ".py",
   "mimetype": "text/x-python",
   "name": "python",
   "nbconvert_exporter": "python",
   "pygments_lexer": "ipython3",
   "version": "3.8.4"
  },
  "varInspector": {
   "cols": {
    "lenName": 16,
    "lenType": 16,
    "lenVar": 40
   },
   "kernels_config": {
    "python": {
     "delete_cmd_postfix": "",
     "delete_cmd_prefix": "del ",
     "library": "var_list.py",
     "varRefreshCmd": "print(var_dic_list())"
    },
    "r": {
     "delete_cmd_postfix": ") ",
     "delete_cmd_prefix": "rm(",
     "library": "var_list.r",
     "varRefreshCmd": "cat(var_dic_list()) "
    }
   },
   "types_to_exclude": [
    "module",
    "function",
    "builtin_function_or_method",
    "instance",
    "_Feature"
   ],
   "window_display": false
  }
 },
 "nbformat": 4,
 "nbformat_minor": 2
}
